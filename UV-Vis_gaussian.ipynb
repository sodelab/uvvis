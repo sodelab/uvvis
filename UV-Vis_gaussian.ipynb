{
 "cells": [
  {
   "cell_type": "markdown",
   "id": "ec57b87a-9dd0-412b-8895-b121ff1a6c92",
   "metadata": {},
   "source": [
    "# UV-Vis Gaussian Input Generation and Export\n",
    "\n",
    "This notebook streamlines the process of generating Gaussian input files for a set of molecules represented by SMILES strings, typically from a UV-Vis dataset. It:\n",
    "\n",
    "- Loads and processes a CSV of molecular SMILES and associated spectral data.\n",
    "- Converts each SMILES string into a 3D-optimized geometry using Open Babel.\n",
    "- Writes multi-step Gaussian input files, including:\n",
    "  - HF or DFT geometry optimizations and frequency calculations.\n",
    "  - TDDFT single-point calculations with user-defined methods and basis sets.\n",
    "- Organizes all `.com` files in a designated output directory.\n",
    "- Optionally compresses the directory into a `.zip` file for cluster upload (e.g., to Curie).\n",
    "\n",
    "This pipeline is ideal for high-throughput quantum chemistry input preparation for excited-state calculations.\n"
   ]
  },
  {
   "cell_type": "markdown",
   "id": "c03b7cc7",
   "metadata": {},
   "source": [
    "### Download Modules"
   ]
  },
  {
   "cell_type": "code",
   "execution_count": null,
   "id": "1f6fb430",
   "metadata": {},
   "outputs": [],
   "source": [
    "%%capture\n",
    "!pip install PubChemPy\n",
    "!pip install pandas\n",
    "!pip install openbabel"
   ]
  },
  {
   "cell_type": "code",
   "execution_count": null,
   "id": "3eb98232",
   "metadata": {},
   "outputs": [],
   "source": [
    "import pandas as pd\n",
    "from openbabel import pybel\n"
   ]
  },
  {
   "cell_type": "markdown",
   "id": "894d0f8b",
   "metadata": {},
   "source": [
    "### Download UV-Vis data"
   ]
  },
  {
   "cell_type": "code",
   "execution_count": null,
   "id": "3f0866ca",
   "metadata": {},
   "outputs": [],
   "source": [
    "! wget https://raw.githubusercontent.com/PNNL-CompBio/ML_UVvisModels/main/Data/UV_w_SMILES.csv"
   ]
  },
  {
   "cell_type": "markdown",
   "id": "b089746a",
   "metadata": {},
   "source": [
    "### Load data in Pandas"
   ]
  },
  {
   "cell_type": "code",
   "execution_count": null,
   "id": "ac74d0b6",
   "metadata": {},
   "outputs": [],
   "source": [
    "import pandas as pd"
   ]
  },
  {
   "cell_type": "code",
   "execution_count": null,
   "id": "0a8a22b7",
   "metadata": {},
   "outputs": [],
   "source": [
    "# Define the file path to the CSV file containing UV-Vis data with SMILES strings\n",
    "uvvis_file = \"UV_w_SMILES.csv\"\n",
    "\n",
    "# Read the CSV file into a pandas DataFrame\n",
    "uvvis_data = pd.read_csv(uvvis_file,header=None)\n",
    "\n",
    "# Display the contents of the DataFrame\n",
    "uvvis_data"
   ]
  },
  {
   "cell_type": "markdown",
   "id": "193e82df",
   "metadata": {},
   "source": [
    "### Convert SMILES to Skeletal Structure"
   ]
  },
  {
   "cell_type": "code",
   "execution_count": null,
   "id": "f46cf11c",
   "metadata": {},
   "outputs": [],
   "source": [
    "for i in range(932):\n",
    "    smi_string = uvvis_data.iloc[i, 0]"
   ]
  },
  {
   "cell_type": "code",
   "execution_count": null,
   "id": "c4cd8196",
   "metadata": {},
   "outputs": [],
   "source": [
    "from rdkit import Chem\n",
    "\n",
    "# Convert the SMILES string at index 690 in the 'uvvis_data' DataFrame to an RDKit molecule object\n",
    "m = Chem.MolFromSmiles(uvvis_data.iloc[35, 0])\n",
    "\n",
    "# Display the RDKit molecule object\n",
    "print(uvvis_data.iloc[35,0])"
   ]
  },
  {
   "cell_type": "markdown",
   "id": "63007e1b",
   "metadata": {},
   "source": [
    "### Convert SMILES to XYZ\n",
    "\n",
    "[Pybel](https://open-babel.readthedocs.io/en/latest/UseTheLibrary/Python_Pybel.html) is a Python wrapper for Open Babel, a chemical toolbox designed to speak the many languages of chemical data. It simplifies the process of converting between different chemical file formats and manipulating chemical data.\n",
    "\n",
    "For more information about Pybel and Open Babel, visit the [Open Babel website](https://openbabel.org/index.html)."
   ]
  },
  {
   "cell_type": "code",
   "execution_count": null,
   "id": "1fc28d7d",
   "metadata": {},
   "outputs": [],
   "source": [
    "from openbabel import pybel\n",
    "\n",
    "\n",
    "# Function to convert SMILES to XYZ\n",
    "def smiles_to_xyz(smiles_string):\n",
    "    # Convert SMILES to molecule\n",
    "    mol = pybel.readstring(\"smi\", smiles_string)\n",
    "    \n",
    "    # Add hydrogens\n",
    "    mol.addh()\n",
    "    \n",
    "    # Generate 3D coordinates\n",
    "    mol.make3D()\n",
    "    \n",
    "    # Optimize geometry\n",
    "    mol.localopt()\n",
    "    \n",
    "    # Get XYZ coordinates\n",
    "    xyz = mol.write(\"xyz\")\n",
    "\n",
    "    return xyz"
   ]
  },
  {
   "cell_type": "markdown",
   "id": "f0026df2",
   "metadata": {},
   "source": [
    "This cell demonstrates the conversion of a SMILES string to XYZ coordinates using the `smiles_to_xyz` function. The example uses the SMILES string for cyclohexane (\"C1CCCCC1\"). The function `smiles_to_xyz` takes this SMILES string and converts it into the corresponding XYZ coordinates, which are stored in the variable `cyclohexane_coordinates`.\n"
   ]
  },
  {
   "cell_type": "code",
   "execution_count": null,
   "id": "2ae6ebe3",
   "metadata": {},
   "outputs": [],
   "source": [
    "# Example SMILES string\n",
    "string = uvvis_data.iloc[35, 0]\n",
    "\n",
    "# Convert to XYZ\n",
    "coordinates = smiles_to_xyz(string)"
   ]
  },
  {
   "cell_type": "markdown",
   "id": "9dd59745-afb2-42e1-a57f-eadc6af8178a",
   "metadata": {},
   "source": [
    "### Print Gaussian Files"
   ]
  },
  {
   "cell_type": "markdown",
   "id": "2151077d-6801-49af-b761-e3189a61d0c0",
   "metadata": {},
   "source": [
    "#### Gaussian Coordinate Print Function\n",
    "\n",
    "This function automates the creation of a multi-step Gaussian input file from a SMILES string. It performs:\n",
    "\n",
    "1. **Step 0**: 3D-coordinate generation via Open Babel and a HF optimization + frequency calculation.\n",
    "2. **Step 1...N**: Subsequent optimizations or TDDFT calculations at user-specified levels of theory/basis.\n",
    "\n",
    "**Parameters:**\n",
    "- `smiles` (`str`): SMILES representation of the molecule.\n",
    "- `filename_prefix` (`str`): Prefix for all output files (e.g., `molecule_0000`).\n",
    "- `path` (`str`): Pathway to folder (e.g., `gauss_files`).\n",
    "- `methods_basis` (`List[Tuple[str,str]]`): Sequence of `(method, basis)` pairs defining each calculation step. The last step may be a TDDFT run.\n",
    "- `dispersion` (`str`, optional): Dispersion correction keyword (e.g., `GD3`, `GD3BJ`). Omit for no dispersion.\n",
    "\n",
    "**Behavior:**\n",
    "- Calls `smiles_to_xyz` to generate and optimize 3D geometry, then writes an XYZ file.\n",
    "- Writes a Gaussian input file (`.com`) in `path`, with Link1 sections for each step:\n",
    "  - `opt freq` for optimization + frequency.\n",
    "  - `TD=(nstates=20,50-50)` for the final TDDFT.\n",
    "- Uses fixed directives `%chk`, `%mem=1000mb`, `%nprocshared=64`.\n",
    "\n",
    "**Output:**\n",
    "- Gaussian input: `gauss_files2/{filename_prefix}.com`."
   ]
  },
  {
   "cell_type": "code",
   "execution_count": null,
   "id": "f6a27019-8a46-4b9d-b4e8-71fe6947fe97",
   "metadata": {},
   "outputs": [],
   "source": [
    "# Main function to generate Gaussian input files\n",
    "def smiles_to_gaussian(smiles, filename_prefix, path, methods_basis, dispersion=None):\n",
    "    # Step 1: Create XYZ\n",
    "    xyz_str = smiles_to_xyz(smiles)\n",
    "    lines = xyz_str.split(\"\\n\")\n",
    "    \n",
    "    # Gaussian Input\n",
    "    gauss_path = f\"{path}/{filename_prefix}.com\"\n",
    "    with open(gauss_path, \"w\") as gauss_file:\n",
    "        chk = f\"{filename_prefix}.chk\"\n",
    "        mem = \"1000mb\"\n",
    "        nproc = \"64\"\n",
    "\n",
    "        # Write initial step with coordinates\n",
    "        gauss_file.write(f\"%chk={chk}\\n%mem={mem}\\n%nprocshared={nproc}\\n\")\n",
    "        disp_str = f\" EmpiricalDispersion={dispersion}\" if dispersion else \"\"\n",
    "        method0, basis0 = methods_basis[0]\n",
    "        gauss_file.write(f\"# opt freq {method0}/{basis0}\\n\\n\")\n",
    "        gauss_file.write(f\"{smiles} -- Step 0: Optimization + Frequency ({method0}/{basis0})\\n\\n0 1\\n\")\n",
    "        gauss_file.write(\"\\n\".join(lines[2:]) + \"\\n\\n\")\n",
    "\n",
    "        # Link1 steps\n",
    "        numsteps = len(methods_basis)\n",
    "        for step, (method, basis) in enumerate(methods_basis[1:], start=1):\n",
    "            gauss_file.write(\"--Link1--\\n\")\n",
    "            gauss_file.write(f\"%chk={chk}\\n%mem={mem}\\n%nprocshared={nproc}\\n\")\n",
    "            if step == numsteps-1:\n",
    "                gauss_file.write(f\"# TD=(nstates=20,50-50) {method}/{basis}{disp_str} geom=check guess=read\\n\\n\")\n",
    "                gauss_file.write(f\"Step {step}: TDDFT ({method}/{basis})\\n\\n\")\n",
    "            else:\n",
    "                gauss_file.write(f\"# opt freq {method}/{basis}{disp_str} geom=check guess=read\\n\\n\")\n",
    "                gauss_file.write(f\"Step {step}: Optimization + Frequency ({method}/{basis})\\n\\n\")\n",
    "            gauss_file.write(\"0 1\\n\\n\")\n",
    "\n",
    "    print(f\"Generated {gauss_path}\")"
   ]
  },
  {
   "cell_type": "markdown",
   "id": "b533a905-b38a-4132-8584-ca1e40592585",
   "metadata": {},
   "source": [
    "### A Simple Example "
   ]
  },
  {
   "cell_type": "code",
   "execution_count": null,
   "id": "be5218e2-ff78-4490-9486-7f8d42415366",
   "metadata": {},
   "outputs": [],
   "source": [
    "# Example Usage:\n",
    "methods_basis = [\n",
    "    (\"HF\", \"cc-pVDZ\"),\n",
    "    (\"HF\", \"cc-pVDZ\")\n",
    "]\n",
    "\n",
    "import os \n",
    "path = \"gauss_files_simple\"\n",
    "# Ensure directory exist\n",
    "os.makedirs(\"gauss_files_simple\", exist_ok=True)\n",
    "\n",
    "\n",
    "smiles_to_gaussian(\"C1=CC=CC=C1\", \"molecule_0000\", path, methods_basis)"
   ]
  },
  {
   "cell_type": "markdown",
   "id": "63b5d200-4364-4562-a874-e7acda26ff28",
   "metadata": {},
   "source": [
    "#### Batch Generation of Gaussian Inputs\n",
    "\n",
    "This snippet captures output and loops over all entries in `uvvis_data` to generate Gaussian input files in bulk:\n",
    "\n",
    "- **`methods_basis`**: List of `(method, basis)` tuples defining the calculation steps for each molecule.\n",
    "- **`path`**: Directory where the `.com` files are stored (e.g., `gauss_files_simple`).\n",
    "- **Loop**: Iterates over an index range to process multiple SMILES entries."
   ]
  },
  {
   "cell_type": "code",
   "execution_count": null,
   "id": "1b6e2f32-ad5f-44e7-bf58-1645b89fb84d",
   "metadata": {},
   "outputs": [],
   "source": [
    "%%capture\n",
    "\n",
    "methods_basis = [\n",
    "    (\"HF\", \"cc-pVDZ\"),\n",
    "    (\"HF\", \"cc-pVDZ\"),\n",
    "]\n",
    "\n",
    "path = \"gauss_files_simple\"\n",
    "\n",
    "for i in range(932):\n",
    "    smi_string = uvvis_data.iloc[i, 0]\n",
    "    prefix = f\"molecule_{i:04d}\"\n",
    "    smiles_to_gaussian(smi_string, prefix, path, methods_basis)\n"
   ]
  },
  {
   "cell_type": "markdown",
   "id": "595a951a-a952-4ca6-b17b-ca20782aaa82",
   "metadata": {},
   "source": [
    "#### Compress Gaussian Path Folder\n",
    "\n",
    "Once input files are generated, you can zip the entire folder. This compresses the contents of the directory specified by `path`. Make sure that `path` is defined above.\n"
   ]
  },
  {
   "cell_type": "code",
   "execution_count": null,
   "id": "0908ebc1-cb09-43e3-9efe-821dfa5065f2",
   "metadata": {},
   "outputs": [],
   "source": [
    "!zip -r {path}.zip {path}"
   ]
  },
  {
   "cell_type": "markdown",
   "id": "5974135c-c313-443a-a06d-4c06f260581e",
   "metadata": {},
   "source": [
    "Now just download your gaussian path and upload it to Curie. You're done!"
   ]
  },
  {
   "cell_type": "code",
   "execution_count": null,
   "id": "5eeaeef1-a229-4e00-a7e1-793e5e167e3c",
   "metadata": {},
   "outputs": [],
   "source": []
  }
 ],
 "metadata": {
  "kernelspec": {
   "display_name": "Python 3 (ipykernel)",
   "language": "python",
   "name": "python3"
  },
  "language_info": {
   "codemirror_mode": {
    "name": "ipython",
    "version": 3
   },
   "file_extension": ".py",
   "mimetype": "text/x-python",
   "name": "python",
   "nbconvert_exporter": "python",
   "pygments_lexer": "ipython3",
   "version": "3.11.9"
  }
 },
 "nbformat": 4,
 "nbformat_minor": 5
}
