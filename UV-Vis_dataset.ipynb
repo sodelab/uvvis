{
 "cells": [
  {
   "cell_type": "markdown",
   "id": "4b575199-2206-4c50-90c8-e352e7e880a4",
   "metadata": {},
   "source": [
    "# Create UV-Vis Dataset for E3NN Machine Learning"
   ]
  },
  {
   "cell_type": "markdown",
   "id": "c03b7cc7",
   "metadata": {},
   "source": [
    "### Download Modules"
   ]
  },
  {
   "cell_type": "code",
   "execution_count": 1,
   "id": "1f6fb430",
   "metadata": {},
   "outputs": [],
   "source": [
    "%%capture\n",
    "!pip install PubChemPy"
   ]
  },
  {
   "cell_type": "code",
   "execution_count": 145,
   "id": "3eb98232",
   "metadata": {},
   "outputs": [],
   "source": [
    "import pandas as pd\n",
    "import numpy as np\n",
    "import io\n",
    "import sys\n",
    "\n",
    "from openbabel import pybel\n",
    "\n",
    "# Import modules\n",
    "import nglview as nv\n",
    "import ase.io\n",
    "import matplotlib.pyplot as plt\n",
    "import rdkit\n",
    "\n",
    "# Load psi4 to compute orbitals\n",
    "import psi4\n"
   ]
  },
  {
   "cell_type": "code",
   "execution_count": null,
   "id": "2fc827c1",
   "metadata": {},
   "outputs": [],
   "source": []
  },
  {
   "cell_type": "markdown",
   "id": "894d0f8b",
   "metadata": {},
   "source": [
    "### Download UV-Vis data"
   ]
  },
  {
   "cell_type": "code",
   "execution_count": 1,
   "id": "3f0866ca",
   "metadata": {},
   "outputs": [
    {
     "name": "stdout",
     "output_type": "stream",
     "text": [
      "--2024-07-02 04:08:38--  https://raw.githubusercontent.com/PNNL-CompBio/ML_UVvisModels/main/Data/UV_w_SMILES.csv\n",
      "Resolving raw.githubusercontent.com (raw.githubusercontent.com)... 185.199.108.133, 185.199.110.133, 185.199.109.133, ...\n",
      "Connecting to raw.githubusercontent.com (raw.githubusercontent.com)|185.199.108.133|:443... connected.\n",
      "HTTP request sent, awaiting response... 200 OK\n",
      "Length: 3442000 (3.3M) [text/plain]\n",
      "Saving to: ‘UV_w_SMILES.csv.1’\n",
      "\n",
      "UV_w_SMILES.csv.1   100%[===================>]   3.28M  --.-KB/s    in 0.04s   \n",
      "\n",
      "2024-07-02 04:08:38 (82.4 MB/s) - ‘UV_w_SMILES.csv.1’ saved [3442000/3442000]\n",
      "\n"
     ]
    }
   ],
   "source": [
    "! wget https://raw.githubusercontent.com/PNNL-CompBio/ML_UVvisModels/main/Data/UV_w_SMILES.csv"
   ]
  },
  {
   "cell_type": "markdown",
   "id": "b089746a",
   "metadata": {},
   "source": [
    "### Load data in Pandas"
   ]
  },
  {
   "cell_type": "code",
   "execution_count": 146,
   "id": "ac74d0b6",
   "metadata": {},
   "outputs": [],
   "source": [
    "import pandas as pd"
   ]
  },
  {
   "cell_type": "code",
   "execution_count": 147,
   "id": "0a8a22b7",
   "metadata": {},
   "outputs": [
    {
     "data": {
      "text/html": [
       "<div>\n",
       "<style scoped>\n",
       "    .dataframe tbody tr th:only-of-type {\n",
       "        vertical-align: middle;\n",
       "    }\n",
       "\n",
       "    .dataframe tbody tr th {\n",
       "        vertical-align: top;\n",
       "    }\n",
       "\n",
       "    .dataframe thead th {\n",
       "        text-align: right;\n",
       "    }\n",
       "</style>\n",
       "<table border=\"1\" class=\"dataframe\">\n",
       "  <thead>\n",
       "    <tr style=\"text-align: right;\">\n",
       "      <th></th>\n",
       "      <th>0</th>\n",
       "      <th>1</th>\n",
       "      <th>2</th>\n",
       "      <th>3</th>\n",
       "      <th>4</th>\n",
       "      <th>5</th>\n",
       "      <th>6</th>\n",
       "      <th>7</th>\n",
       "      <th>8</th>\n",
       "      <th>9</th>\n",
       "      <th>...</th>\n",
       "      <th>172</th>\n",
       "      <th>173</th>\n",
       "      <th>174</th>\n",
       "      <th>175</th>\n",
       "      <th>176</th>\n",
       "      <th>177</th>\n",
       "      <th>178</th>\n",
       "      <th>179</th>\n",
       "      <th>180</th>\n",
       "      <th>181</th>\n",
       "    </tr>\n",
       "  </thead>\n",
       "  <tbody>\n",
       "    <tr>\n",
       "      <th>0</th>\n",
       "      <td>NC1=NC2=C(C=CC=C2)[N+]([O-])=N1</td>\n",
       "      <td>0.299539</td>\n",
       "      <td>0.311787</td>\n",
       "      <td>0.328491</td>\n",
       "      <td>0.349915</td>\n",
       "      <td>0.376548</td>\n",
       "      <td>0.408694</td>\n",
       "      <td>0.446354</td>\n",
       "      <td>0.489792</td>\n",
       "      <td>0.537421</td>\n",
       "      <td>...</td>\n",
       "      <td>0.092434</td>\n",
       "      <td>0.095006</td>\n",
       "      <td>0.097484</td>\n",
       "      <td>0.099952</td>\n",
       "      <td>0.102239</td>\n",
       "      <td>0.104428</td>\n",
       "      <td>0.106597</td>\n",
       "      <td>0.108721</td>\n",
       "      <td>0.110758</td>\n",
       "      <td>0.112611</td>\n",
       "    </tr>\n",
       "    <tr>\n",
       "      <th>1</th>\n",
       "      <td>NC1=NC2=C(C=CC=C2)N=N1</td>\n",
       "      <td>0.411922</td>\n",
       "      <td>0.447550</td>\n",
       "      <td>0.487158</td>\n",
       "      <td>0.530422</td>\n",
       "      <td>0.576958</td>\n",
       "      <td>0.626523</td>\n",
       "      <td>0.678088</td>\n",
       "      <td>0.731087</td>\n",
       "      <td>0.783621</td>\n",
       "      <td>...</td>\n",
       "      <td>0.094415</td>\n",
       "      <td>0.095031</td>\n",
       "      <td>0.095445</td>\n",
       "      <td>0.095832</td>\n",
       "      <td>0.095950</td>\n",
       "      <td>0.095919</td>\n",
       "      <td>0.095820</td>\n",
       "      <td>0.095594</td>\n",
       "      <td>0.095204</td>\n",
       "      <td>0.094772</td>\n",
       "    </tr>\n",
       "    <tr>\n",
       "      <th>2</th>\n",
       "      <td>CCC1=[N+]([O-])C2=C(C=CC=C2)[N+]([O-])=N1</td>\n",
       "      <td>0.732482</td>\n",
       "      <td>0.794217</td>\n",
       "      <td>0.853497</td>\n",
       "      <td>0.907398</td>\n",
       "      <td>0.952023</td>\n",
       "      <td>0.983787</td>\n",
       "      <td>1.000000</td>\n",
       "      <td>0.998714</td>\n",
       "      <td>0.982111</td>\n",
       "      <td>...</td>\n",
       "      <td>0.398864</td>\n",
       "      <td>0.409874</td>\n",
       "      <td>0.420358</td>\n",
       "      <td>0.429326</td>\n",
       "      <td>0.437889</td>\n",
       "      <td>0.445579</td>\n",
       "      <td>0.452843</td>\n",
       "      <td>0.459056</td>\n",
       "      <td>0.464107</td>\n",
       "      <td>0.468328</td>\n",
       "    </tr>\n",
       "    <tr>\n",
       "      <th>3</th>\n",
       "      <td>CN(C)CC1=CNC2=CC=C(C=C12)[N+]([O-])=O</td>\n",
       "      <td>0.412611</td>\n",
       "      <td>0.399813</td>\n",
       "      <td>0.390055</td>\n",
       "      <td>0.382307</td>\n",
       "      <td>0.376957</td>\n",
       "      <td>0.373062</td>\n",
       "      <td>0.371521</td>\n",
       "      <td>0.370622</td>\n",
       "      <td>0.371992</td>\n",
       "      <td>...</td>\n",
       "      <td>0.033980</td>\n",
       "      <td>0.029478</td>\n",
       "      <td>0.024774</td>\n",
       "      <td>0.020789</td>\n",
       "      <td>0.017146</td>\n",
       "      <td>0.013311</td>\n",
       "      <td>0.009733</td>\n",
       "      <td>0.006266</td>\n",
       "      <td>0.003120</td>\n",
       "      <td>0.000000</td>\n",
       "    </tr>\n",
       "    <tr>\n",
       "      <th>4</th>\n",
       "      <td>NC(=N)SCCN1C(=O)C2=CC=CC=C2C1=O</td>\n",
       "      <td>0.991241</td>\n",
       "      <td>1.000000</td>\n",
       "      <td>0.996943</td>\n",
       "      <td>0.979253</td>\n",
       "      <td>0.944010</td>\n",
       "      <td>0.890630</td>\n",
       "      <td>0.820660</td>\n",
       "      <td>0.739217</td>\n",
       "      <td>0.655266</td>\n",
       "      <td>...</td>\n",
       "      <td>0.000543</td>\n",
       "      <td>0.000694</td>\n",
       "      <td>0.000529</td>\n",
       "      <td>0.000495</td>\n",
       "      <td>0.000374</td>\n",
       "      <td>0.000433</td>\n",
       "      <td>0.000577</td>\n",
       "      <td>0.000560</td>\n",
       "      <td>0.000574</td>\n",
       "      <td>0.000412</td>\n",
       "    </tr>\n",
       "    <tr>\n",
       "      <th>...</th>\n",
       "      <td>...</td>\n",
       "      <td>...</td>\n",
       "      <td>...</td>\n",
       "      <td>...</td>\n",
       "      <td>...</td>\n",
       "      <td>...</td>\n",
       "      <td>...</td>\n",
       "      <td>...</td>\n",
       "      <td>...</td>\n",
       "      <td>...</td>\n",
       "      <td>...</td>\n",
       "      <td>...</td>\n",
       "      <td>...</td>\n",
       "      <td>...</td>\n",
       "      <td>...</td>\n",
       "      <td>...</td>\n",
       "      <td>...</td>\n",
       "      <td>...</td>\n",
       "      <td>...</td>\n",
       "      <td>...</td>\n",
       "      <td>...</td>\n",
       "    </tr>\n",
       "    <tr>\n",
       "      <th>927</th>\n",
       "      <td>c1csc(c1)-c1ncc2ccccn12</td>\n",
       "      <td>0.780693</td>\n",
       "      <td>0.749204</td>\n",
       "      <td>0.723286</td>\n",
       "      <td>0.700154</td>\n",
       "      <td>0.678959</td>\n",
       "      <td>0.664063</td>\n",
       "      <td>0.651104</td>\n",
       "      <td>0.639720</td>\n",
       "      <td>0.630878</td>\n",
       "      <td>...</td>\n",
       "      <td>0.022660</td>\n",
       "      <td>0.018397</td>\n",
       "      <td>0.015018</td>\n",
       "      <td>0.011409</td>\n",
       "      <td>0.009047</td>\n",
       "      <td>0.006746</td>\n",
       "      <td>0.004517</td>\n",
       "      <td>0.002713</td>\n",
       "      <td>0.001453</td>\n",
       "      <td>0.000000</td>\n",
       "    </tr>\n",
       "    <tr>\n",
       "      <th>928</th>\n",
       "      <td>c1coc(c1)-c1ccnc2nncn12</td>\n",
       "      <td>0.646698</td>\n",
       "      <td>0.659208</td>\n",
       "      <td>0.668289</td>\n",
       "      <td>0.674135</td>\n",
       "      <td>0.676552</td>\n",
       "      <td>0.674330</td>\n",
       "      <td>0.668094</td>\n",
       "      <td>0.656831</td>\n",
       "      <td>0.642216</td>\n",
       "      <td>...</td>\n",
       "      <td>0.000538</td>\n",
       "      <td>0.000339</td>\n",
       "      <td>0.000440</td>\n",
       "      <td>0.000230</td>\n",
       "      <td>0.000327</td>\n",
       "      <td>0.000148</td>\n",
       "      <td>0.000129</td>\n",
       "      <td>0.000055</td>\n",
       "      <td>0.000000</td>\n",
       "      <td>0.000164</td>\n",
       "    </tr>\n",
       "    <tr>\n",
       "      <th>929</th>\n",
       "      <td>Nc1nc(cs1)-c1cccs1</td>\n",
       "      <td>0.588011</td>\n",
       "      <td>0.585420</td>\n",
       "      <td>0.584680</td>\n",
       "      <td>0.585494</td>\n",
       "      <td>0.588826</td>\n",
       "      <td>0.593638</td>\n",
       "      <td>0.601041</td>\n",
       "      <td>0.610887</td>\n",
       "      <td>0.623694</td>\n",
       "      <td>...</td>\n",
       "      <td>0.000496</td>\n",
       "      <td>0.000444</td>\n",
       "      <td>0.000807</td>\n",
       "      <td>0.000770</td>\n",
       "      <td>0.001036</td>\n",
       "      <td>0.000355</td>\n",
       "      <td>0.000222</td>\n",
       "      <td>0.000496</td>\n",
       "      <td>0.000000</td>\n",
       "      <td>0.000155</td>\n",
       "    </tr>\n",
       "    <tr>\n",
       "      <th>930</th>\n",
       "      <td>Nc1nccc(n1)-c1cccs1</td>\n",
       "      <td>0.687236</td>\n",
       "      <td>0.686341</td>\n",
       "      <td>0.680750</td>\n",
       "      <td>0.670685</td>\n",
       "      <td>0.658608</td>\n",
       "      <td>0.642728</td>\n",
       "      <td>0.622375</td>\n",
       "      <td>0.595983</td>\n",
       "      <td>0.564895</td>\n",
       "      <td>...</td>\n",
       "      <td>0.002908</td>\n",
       "      <td>0.002147</td>\n",
       "      <td>0.003086</td>\n",
       "      <td>0.002348</td>\n",
       "      <td>0.001141</td>\n",
       "      <td>0.001364</td>\n",
       "      <td>0.000470</td>\n",
       "      <td>0.000403</td>\n",
       "      <td>0.000000</td>\n",
       "      <td>0.000716</td>\n",
       "    </tr>\n",
       "    <tr>\n",
       "      <th>931</th>\n",
       "      <td>COC(=O)\\C=C(\\O\\N=C(/N)C1=CC=CN=C1Cl)C(=O)OC</td>\n",
       "      <td>1.000000</td>\n",
       "      <td>0.902073</td>\n",
       "      <td>0.799194</td>\n",
       "      <td>0.684961</td>\n",
       "      <td>0.562941</td>\n",
       "      <td>0.442887</td>\n",
       "      <td>0.336274</td>\n",
       "      <td>0.248761</td>\n",
       "      <td>0.179520</td>\n",
       "      <td>...</td>\n",
       "      <td>0.046159</td>\n",
       "      <td>0.096472</td>\n",
       "      <td>0.136801</td>\n",
       "      <td>0.134766</td>\n",
       "      <td>0.111501</td>\n",
       "      <td>0.073973</td>\n",
       "      <td>0.075643</td>\n",
       "      <td>0.135058</td>\n",
       "      <td>0.176160</td>\n",
       "      <td>0.127745</td>\n",
       "    </tr>\n",
       "  </tbody>\n",
       "</table>\n",
       "<p>932 rows × 182 columns</p>\n",
       "</div>"
      ],
      "text/plain": [
       "                                             0         1         2    \\\n",
       "0                NC1=NC2=C(C=CC=C2)[N+]([O-])=N1  0.299539  0.311787   \n",
       "1                         NC1=NC2=C(C=CC=C2)N=N1  0.411922  0.447550   \n",
       "2      CCC1=[N+]([O-])C2=C(C=CC=C2)[N+]([O-])=N1  0.732482  0.794217   \n",
       "3          CN(C)CC1=CNC2=CC=C(C=C12)[N+]([O-])=O  0.412611  0.399813   \n",
       "4                NC(=N)SCCN1C(=O)C2=CC=CC=C2C1=O  0.991241  1.000000   \n",
       "..                                           ...       ...       ...   \n",
       "927                      c1csc(c1)-c1ncc2ccccn12  0.780693  0.749204   \n",
       "928                      c1coc(c1)-c1ccnc2nncn12  0.646698  0.659208   \n",
       "929                           Nc1nc(cs1)-c1cccs1  0.588011  0.585420   \n",
       "930                          Nc1nccc(n1)-c1cccs1  0.687236  0.686341   \n",
       "931  COC(=O)\\C=C(\\O\\N=C(/N)C1=CC=CN=C1Cl)C(=O)OC  1.000000  0.902073   \n",
       "\n",
       "          3         4         5         6         7         8         9    \\\n",
       "0    0.328491  0.349915  0.376548  0.408694  0.446354  0.489792  0.537421   \n",
       "1    0.487158  0.530422  0.576958  0.626523  0.678088  0.731087  0.783621   \n",
       "2    0.853497  0.907398  0.952023  0.983787  1.000000  0.998714  0.982111   \n",
       "3    0.390055  0.382307  0.376957  0.373062  0.371521  0.370622  0.371992   \n",
       "4    0.996943  0.979253  0.944010  0.890630  0.820660  0.739217  0.655266   \n",
       "..        ...       ...       ...       ...       ...       ...       ...   \n",
       "927  0.723286  0.700154  0.678959  0.664063  0.651104  0.639720  0.630878   \n",
       "928  0.668289  0.674135  0.676552  0.674330  0.668094  0.656831  0.642216   \n",
       "929  0.584680  0.585494  0.588826  0.593638  0.601041  0.610887  0.623694   \n",
       "930  0.680750  0.670685  0.658608  0.642728  0.622375  0.595983  0.564895   \n",
       "931  0.799194  0.684961  0.562941  0.442887  0.336274  0.248761  0.179520   \n",
       "\n",
       "     ...       172       173       174       175       176       177  \\\n",
       "0    ...  0.092434  0.095006  0.097484  0.099952  0.102239  0.104428   \n",
       "1    ...  0.094415  0.095031  0.095445  0.095832  0.095950  0.095919   \n",
       "2    ...  0.398864  0.409874  0.420358  0.429326  0.437889  0.445579   \n",
       "3    ...  0.033980  0.029478  0.024774  0.020789  0.017146  0.013311   \n",
       "4    ...  0.000543  0.000694  0.000529  0.000495  0.000374  0.000433   \n",
       "..   ...       ...       ...       ...       ...       ...       ...   \n",
       "927  ...  0.022660  0.018397  0.015018  0.011409  0.009047  0.006746   \n",
       "928  ...  0.000538  0.000339  0.000440  0.000230  0.000327  0.000148   \n",
       "929  ...  0.000496  0.000444  0.000807  0.000770  0.001036  0.000355   \n",
       "930  ...  0.002908  0.002147  0.003086  0.002348  0.001141  0.001364   \n",
       "931  ...  0.046159  0.096472  0.136801  0.134766  0.111501  0.073973   \n",
       "\n",
       "          178       179       180       181  \n",
       "0    0.106597  0.108721  0.110758  0.112611  \n",
       "1    0.095820  0.095594  0.095204  0.094772  \n",
       "2    0.452843  0.459056  0.464107  0.468328  \n",
       "3    0.009733  0.006266  0.003120  0.000000  \n",
       "4    0.000577  0.000560  0.000574  0.000412  \n",
       "..        ...       ...       ...       ...  \n",
       "927  0.004517  0.002713  0.001453  0.000000  \n",
       "928  0.000129  0.000055  0.000000  0.000164  \n",
       "929  0.000222  0.000496  0.000000  0.000155  \n",
       "930  0.000470  0.000403  0.000000  0.000716  \n",
       "931  0.075643  0.135058  0.176160  0.127745  \n",
       "\n",
       "[932 rows x 182 columns]"
      ]
     },
     "execution_count": 147,
     "metadata": {},
     "output_type": "execute_result"
    }
   ],
   "source": [
    "# Define the file path to the CSV file containing UV-Vis data with SMILES strings\n",
    "uvvis_file = \"UV_w_SMILES.csv\"\n",
    "\n",
    "# Read the CSV file into a pandas DataFrame\n",
    "uvvis_data = pd.read_csv(uvvis_file,header=None)\n",
    "\n",
    "# Display the contents of the DataFrame\n",
    "uvvis_data"
   ]
  },
  {
   "cell_type": "markdown",
   "id": "193e82df",
   "metadata": {},
   "source": [
    "### Convert SMILES to Skeletal Structure"
   ]
  },
  {
   "cell_type": "code",
   "execution_count": 148,
   "id": "f46cf11c",
   "metadata": {},
   "outputs": [],
   "source": [
    "for i in range(932):\n",
    "    smi_string = uvvis_data.iloc[i, 0]"
   ]
  },
  {
   "cell_type": "code",
   "execution_count": 149,
   "id": "c4cd8196",
   "metadata": {},
   "outputs": [
    {
     "name": "stdout",
     "output_type": "stream",
     "text": [
      "CCN(CC)CCC(O)(C1=CC=CC=C1)C1=CC=CC=C1\n"
     ]
    }
   ],
   "source": [
    "from rdkit import Chem\n",
    "\n",
    "# Convert the SMILES string at index 690 in the 'uvvis_data' DataFrame to an RDKit molecule object\n",
    "m = Chem.MolFromSmiles(uvvis_data.iloc[66, 0])\n",
    "\n",
    "# Display the RDKit molecule object\n",
    "\n",
    "print(uvvis_data.iloc[35,0])"
   ]
  },
  {
   "cell_type": "markdown",
   "id": "63007e1b",
   "metadata": {},
   "source": [
    "## Convert SMILES to XYZ\n",
    "\n",
    "[Pybel](https://open-babel.readthedocs.io/en/latest/UseTheLibrary/Python_Pybel.html) is a Python wrapper for Open Babel, a chemical toolbox designed to speak the many languages of chemical data. It simplifies the process of converting between different chemical file formats and manipulating chemical data.\n",
    "\n",
    "For more information about Pybel and Open Babel, visit the [Open Babel website](https://openbabel.org/index.html)."
   ]
  },
  {
   "cell_type": "code",
   "execution_count": 150,
   "id": "1fc28d7d",
   "metadata": {},
   "outputs": [],
   "source": [
    "from openbabel import pybel\n",
    "\n",
    "# Function to convert SMILES to XYZ\n",
    "def smiles_to_xyz(smiles_string):\n",
    "    # Convert SMILES to molecule\n",
    "    mol = pybel.readstring(\"smi\", smiles_string)\n",
    "    \n",
    "    # Add hydrogens\n",
    "    mol.addh()\n",
    "    \n",
    "    # Generate 3D coordinates\n",
    "    mol.make3D()\n",
    "    \n",
    "    # Optimize geometry\n",
    "    mol.localopt()\n",
    "    \n",
    "    # Get XYZ coordinates\n",
    "    xyz = mol.write(\"xyz\")\n",
    "\n",
    "    return xyz"
   ]
  },
  {
   "cell_type": "markdown",
   "id": "f0026df2",
   "metadata": {},
   "source": [
    "This cell demonstrates the conversion of a SMILES string to XYZ coordinates using the `smiles_to_xyz` function. The example uses the SMILES string for cyclohexane (\"C1CCCCC1\"). The function `smiles_to_xyz` takes this SMILES string and converts it into the corresponding XYZ coordinates, which are stored in the variable `coordinates`.\n"
   ]
  },
  {
   "cell_type": "code",
   "execution_count": 176,
   "id": "2ae6ebe3",
   "metadata": {},
   "outputs": [],
   "source": [
    "# Example SMILES string\n",
    "string = uvvis_data.iloc[699, 0]\n",
    "\n",
    "# Convert to XYZ\n",
    "coordinates = smiles_to_xyz(string)"
   ]
  },
  {
   "cell_type": "markdown",
   "id": "3f928440",
   "metadata": {},
   "source": [
    "## Convert XYZ coordinates to Psi4\n",
    "\n",
    "This section simply converts the XYZ coordinates to a Psi4 object for visualization later."
   ]
  },
  {
   "cell_type": "code",
   "execution_count": 113,
   "id": "debdb876",
   "metadata": {},
   "outputs": [],
   "source": [
    "# import the python modules that we will use\n",
    "import psi4\n",
    "import numpy as np\n",
    "# enable the output of plotting commands to be displayed in a Jupyter notebook\n",
    "%matplotlib inline\n",
    "import matplotlib.pyplot as plt"
   ]
  },
  {
   "cell_type": "code",
   "execution_count": 178,
   "id": "3103288d",
   "metadata": {},
   "outputs": [],
   "source": [
    "import psi4\n",
    "\n",
    "# Set Psi4 options\n",
    "psi4.set_memory('1000 MB')\n",
    "psi4.set_num_threads(4)\n",
    "psi4.core.be_quiet()\n",
    "\n",
    "molecule = psi4.geometry(coordinates)\n"
   ]
  },
  {
   "cell_type": "markdown",
   "id": "804075ae",
   "metadata": {},
   "source": [
    "### Visualize geometry"
   ]
  },
  {
   "cell_type": "code",
   "execution_count": 179,
   "id": "f991ba0a",
   "metadata": {},
   "outputs": [
    {
     "data": {
      "application/vnd.jupyter.widget-view+json": {
       "model_id": "238ecd7106854e139682d743fb68a295",
       "version_major": 2,
       "version_minor": 0
      },
      "text/plain": [
       "NGLWidget()"
      ]
     },
     "metadata": {},
     "output_type": "display_data"
    }
   ],
   "source": [
    "# view molecule with Psi4\n",
    "view = nv.show_psi4(molecule)\n",
    "view"
   ]
  },
  {
   "cell_type": "markdown",
   "id": "c266b522",
   "metadata": {},
   "source": [
    "### Save geometry"
   ]
  },
  {
   "cell_type": "code",
   "execution_count": 154,
   "id": "ea35fa60",
   "metadata": {},
   "outputs": [
    {
     "name": "stdout",
     "output_type": "stream",
     "text": [
      "File created: molecule.xyz\n"
     ]
    }
   ],
   "source": [
    "# Define a filename for the XYZ file\n",
    "filename = \"molecule.xyz\"\n",
    "\n",
    "# Create the file and save the XYZ coordinates\n",
    "with open(filename, 'w') as file:\n",
    "    molecule.save_xyz_file(filename, 1)\n",
    "\n",
    "print(f\"File created: {filename}\")"
   ]
  },
  {
   "cell_type": "code",
   "execution_count": 155,
   "id": "c956ea88",
   "metadata": {},
   "outputs": [],
   "source": [
    "# Import the XYZ file using ASE\n",
    "mol = ase.io.read(filename)\n"
   ]
  },
  {
   "cell_type": "markdown",
   "id": "11a3d62a",
   "metadata": {},
   "source": [
    "### Add cell dimensions and PBC"
   ]
  },
  {
   "cell_type": "code",
   "execution_count": 156,
   "id": "02d3e7a7",
   "metadata": {},
   "outputs": [],
   "source": [
    "# Set the cell dimensions to 100.0 Å in each direction\n",
    "mol.set_cell((15.0, 15.0, 15.0))\n",
    "\n",
    "# Enable periodic boundary conditions (PBC) in all three dimensions\n",
    "mol.set_pbc((True, True, True))"
   ]
  },
  {
   "cell_type": "code",
   "execution_count": 157,
   "id": "ba1c9876",
   "metadata": {},
   "outputs": [
    {
     "data": {
      "text/plain": [
       "<Axes: >"
      ]
     },
     "execution_count": 157,
     "metadata": {},
     "output_type": "execute_result"
    },
    {
     "data": {
      "image/png": "[encoded data removed]",
      "text/plain": [
       "<Figure size 600x500 with 1 Axes>"
      ]
     },
     "metadata": {},
     "output_type": "display_data"
    }
   ],
   "source": [
    "import matplotlib.pyplot as plt\n",
    "from ase.visualize.plot import plot_atoms\n",
    "\n",
    "# Create a figure and axis for the plot\n",
    "fig, ax = plt.subplots(figsize=(6, 5))\n",
    "\n",
    "# Plot the molecule using ASE's plot_atoms function\n",
    "plot_atoms(mol, ax, radii=0.75, rotation=('60x, 60y, 60z'))\n"
   ]
  },
  {
   "cell_type": "markdown",
   "id": "73eca3ab",
   "metadata": {},
   "source": [
    "### Make species"
   ]
  },
  {
   "cell_type": "code",
   "execution_count": 158,
   "id": "11ad9ee4",
   "metadata": {},
   "outputs": [
    {
     "name": "stdout",
     "output_type": "stream",
     "text": [
      "['O', 'H', 'N', 'C']\n"
     ]
    }
   ],
   "source": [
    "# Extract unique chemical symbols from the molecule\n",
    "species_list = list(set(mol.get_chemical_symbols()))\n",
    "\n",
    "# Print the list of unique species\n",
    "print(species_list)"
   ]
  },
  {
   "cell_type": "markdown",
   "id": "99dedb52",
   "metadata": {},
   "source": [
    "### Make formula"
   ]
  },
  {
   "cell_type": "code",
   "execution_count": 159,
   "id": "3c7f4a41",
   "metadata": {},
   "outputs": [
    {
     "name": "stdout",
     "output_type": "stream",
     "text": [
      "CHNO\n"
     ]
    }
   ],
   "source": [
    "# Generate a formula string by extracting and sorting unique chemical symbols\n",
    "formula_string = ''.join(sorted(set([atom.symbol for atom in mol])))\n",
    "\n",
    "# Print the molecular formula string\n",
    "print(formula_string)"
   ]
  },
  {
   "cell_type": "markdown",
   "id": "b11b093d",
   "metadata": {},
   "source": [
    "### Get Experimental UV-vis data"
   ]
  },
  {
   "cell_type": "code",
   "execution_count": 160,
   "id": "ba465423",
   "metadata": {},
   "outputs": [
    {
     "data": {
      "text/plain": [
       "array([0.4043139315902422, 0.3622695221828056, 0.3281084395392633,\n",
       "       0.3027066088556037, 0.2851881049358384, 0.2746770025839793,\n",
       "       0.2698594140060439, 0.270297376604038, 0.2751149651819735,\n",
       "       0.2831734769850654, 0.2941663381947181, 0.307611789953138,\n",
       "       0.3234660360005255, 0.341115928699689, 0.3612184119476196,\n",
       "       0.3832479306267244, 0.4071168922174046, 0.4326939079402619,\n",
       "       0.4606359216922874, 0.4900670082774931, 0.520593001357684,\n",
       "       0.5528708448298515, 0.5861997985372049, 0.6207988437787413,\n",
       "       0.6561862216966671, 0.6920115622125871, 0.7277055139491088,\n",
       "       0.7635308544650287, 0.7986116585643586, 0.8323785748697061,\n",
       "       0.8639863355669426, 0.8932422371129506, 0.9199185389567732,\n",
       "       0.9435247229886567, 0.96343012306749, 0.9790653878158804,\n",
       "       0.9906494985328252, 0.9976569001007314, 1.0, 0.9976262427188718,\n",
       "       0.9893618884947224, 0.9750448911662944, 0.9553365742565584,\n",
       "       0.930517233828231, 0.9030350808040992, 0.8745456138045811,\n",
       "       0.845605045329129, 0.8151097096307975, 0.7827179958831516,\n",
       "       0.7481758857793545, 0.712166600972277, 0.6773091577979241,\n",
       "       0.6447553978890203, 0.6138965532343538, 0.582468357202295,\n",
       "       0.5480882932597556, 0.5093548810931546, 0.4680769062322077,\n",
       "       0.4259449043051723, 0.3854070862348355, 0.3476196732799019,\n",
       "       0.313357859238821, 0.2812814785617308, 0.2506459948320413,\n",
       "       0.2215433801953313, 0.1935093942977269, 0.1677221565278325,\n",
       "       0.1451977401129943, 0.1268777646388998, 0.1120001751850392,\n",
       "       0.100070074015679, 0.090820303946043, 0.0839924670433145,\n",
       "       0.0788332676389436, 0.0751324836858932, 0.0718696623308369,\n",
       "       0.0695440809354881, 0.0679674155827092, 0.0666097315289274,\n",
       "       0.0653571584986642, 0.0644461962948364, 0.0637323172601059,\n",
       "       0.0630753733631147, 0.0622563833048657, 0.061485569132396,\n",
       "       0.060889939999124, 0.0599833574212762, 0.0591293303551876,\n",
       "       0.0583585161827179, 0.057530766872509, 0.0565234528971225,\n",
       "       0.0554898611658564, 0.0544694083125301, 0.0533438444356851,\n",
       "       0.0523277712083388, 0.051189068453554, 0.0499627731791705,\n",
       "       0.0488240704243857, 0.0475846362720623, 0.0461437393246616,\n",
       "       0.0447159812552008, 0.0434502693469977, 0.0421144834231156,\n",
       "       0.0406166513379757, 0.0393553190557526, 0.0379231813603118,\n",
       "       0.0363465160075329, 0.0349450356939517, 0.0335698331362501,\n",
       "       0.0323479174878465, 0.030740594753208, 0.0294091884553059,\n",
       "       0.0280646432794639, 0.0266281259580431, 0.0253098585380808,\n",
       "       0.0239696929882188, 0.0227740550956948, 0.0214251302938729,\n",
       "       0.0204353348224061, 0.0192090395480226, 0.0181141330530372,\n",
       "       0.0168571803967941, 0.0157622739018087, 0.0147812376823019,\n",
       "       0.0141505715411903, 0.0132133315814829, 0.012236674987956,\n",
       "       0.0112775368983488, 0.0103052599308019, 0.0096789734156703,\n",
       "       0.0090658257784785, 0.0083256689878684, 0.0079709192834931,\n",
       "       0.0073271142644418, 0.0064993649542329, 0.0057723470415626,\n",
       "       0.0054088380852275, 0.0050935050146717, 0.0045241536372793,\n",
       "       0.004252616826523, 0.0039985985196864, 0.0035474970437524,\n",
       "       0.0030438400560592, 0.0028423772609819, 0.0026409144659046,\n",
       "       0.0025139053124863, 0.0024306924188674, 0.0022861647615293,\n",
       "       0.0020365260806727, 0.0016992948802172, 0.0013664433057416,\n",
       "       0.0010861472430254, 0.0009197214557876, 0.0008321289361888,\n",
       "       0.0008058511803092, 0.0007927123023693, 0.0007795734244295,\n",
       "       0.0007620549205097, 0.00074015679061, 0.0007051197827705,\n",
       "       0.000665703148951, 0.0006175272631717, 0.0005474532474926,\n",
       "       0.0004598607278938, 0.0003635089563351, 0.0003416108264354,\n",
       "       0.0003941663381947, 0.0003109534445758, 0.0002146016730171,\n",
       "       0.0003021941926159, 0.0004292033460342, 0.0004160644680944,\n",
       "       0.0003240923225156, 0.0003065738185958, 0.0001357684053781, 0.0,\n",
       "       3.941663381947182e-05, 0.000223360924977, 0.0001401480313581,\n",
       "       0.0004029255901546, 0.0001576665352778], dtype=object)"
      ]
     },
     "execution_count": 160,
     "metadata": {},
     "output_type": "execute_result"
    }
   ],
   "source": [
    "# Extract Y-values starting from index 1 (excluding the first column) at row index 220 of the DataFrame\n",
    "yvalues = uvvis_data.iloc[66, 1:].to_numpy()\n",
    "\n",
    "# Display the Y-values as a numpy array\n",
    "yvalues"
   ]
  },
  {
   "cell_type": "code",
   "execution_count": 162,
   "id": "8e029a31",
   "metadata": {},
   "outputs": [],
   "source": [
    "import numpy as np\n",
    "\n",
    "xvalues = np.arange(220,401,1)"
   ]
  },
  {
   "cell_type": "code",
   "execution_count": 163,
   "id": "6ff3f075",
   "metadata": {},
   "outputs": [
    {
     "data": {
      "image/png": "[encoded data removed]",
      "text/plain": [
       "<Figure size 640x480 with 1 Axes>"
      ]
     },
     "metadata": {},
     "output_type": "display_data"
    }
   ],
   "source": [
    "import matplotlib.pyplot as plt\n",
    "\n",
    "plt.xlabel('wavelength (nm)')\n",
    "plt.ylabel('absorbance (arbitrary units)')\n",
    "plt.plot(xvalues,yvalues)\n",
    "plt.xlim(220,400)\n",
    "plt.show()"
   ]
  },
  {
   "cell_type": "markdown",
   "id": "7b37dc05",
   "metadata": {},
   "source": [
    "### Downsampling Approaches"
   ]
  },
  {
   "cell_type": "code",
   "execution_count": 164,
   "id": "1d55f314",
   "metadata": {},
   "outputs": [
    {
     "data": {
      "image/png": "[encoded data removed]",
      "text/plain": [
       "<Figure size 1000x400 with 1 Axes>"
      ]
     },
     "metadata": {},
     "output_type": "display_data"
    }
   ],
   "source": [
    "## Simple Subsampling\n",
    "\n",
    "\n",
    "import matplotlib.pyplot as plt\n",
    "\n",
    "# Assuming xvalues and yvalues are your original numpy arrays\n",
    "x_reduced = xvalues[::4]\n",
    "y_reduced = yvalues[::4]\n",
    "\n",
    "# Plotting to compare\n",
    "plt.figure(figsize=(10, 4))\n",
    "plt.plot(xvalues, yvalues, label='Original Data')\n",
    "plt.plot(x_reduced, y_reduced, 'o-', label='Reduced Data (50%)')\n",
    "plt.legend()\n",
    "plt.show()\n"
   ]
  },
  {
   "cell_type": "code",
   "execution_count": 165,
   "id": "3c26fe21",
   "metadata": {},
   "outputs": [
    {
     "data": {
      "image/png": "[encoded data removed]",
      "text/plain": [
       "<Figure size 1000x500 with 1 Axes>"
      ]
     },
     "metadata": {},
     "output_type": "display_data"
    }
   ],
   "source": [
    "## Averaging Neighboring Points\n",
    "\n",
    "import matplotlib.pyplot as plt\n",
    "\n",
    "# Ensure even number of data points\n",
    "if len(xvalues) % 2 != 0:\n",
    "    xvalues = xvalues[:-1]\n",
    "    yvalues = yvalues[:-1]\n",
    "\n",
    "# Reshape and average\n",
    "x_reduced = xvalues.reshape(-1, 4).mean(axis=1)\n",
    "y_reduced = yvalues.reshape(-1, 4).mean(axis=1)\n",
    "\n",
    "# Plotting to compare\n",
    "plt.figure(figsize=(10, 5))\n",
    "plt.plot(xvalues, yvalues, label='Original Data')\n",
    "plt.plot(x_reduced, y_reduced, 'o-', label='Reduced Data (Averaged)')\n",
    "plt.legend()\n",
    "plt.show()\n"
   ]
  },
  {
   "cell_type": "code",
   "execution_count": 167,
   "id": "b0739c5e",
   "metadata": {},
   "outputs": [
    {
     "data": {
      "image/png": "[encoded data removed]",
      "text/plain": [
       "<Figure size 1000x500 with 1 Axes>"
      ]
     },
     "metadata": {},
     "output_type": "display_data"
    }
   ],
   "source": [
    "## Resampling Using Interpolation\n",
    "\n",
    "import numpy as np\n",
    "import matplotlib.pyplot as plt\n",
    "from scipy.interpolate import interp1d\n",
    "\n",
    "# Create an interpolation function\n",
    "interp_func = interp1d(xvalues, yvalues, kind='cubic')\n",
    "\n",
    "# Generate new xvalues with 50% fewer points\n",
    "num_points = len(xvalues) // 4\n",
    "#print(num_points)\n",
    "#x_reduced = np.arange(xvalues[0], xvalues[-1]+1, 4)\n",
    "x_reduced_interp = np.linspace(xvalues[0], xvalues[-1], num_points)\n",
    "y_reduced_interp = interp_func(x_reduced)\n",
    "#print(x_reduced)\n",
    "\n",
    "# Plotting to compare\n",
    "plt.figure(figsize=(10, 5))\n",
    "plt.plot(xvalues, yvalues, label='Original Data')\n",
    "plt.plot(x_reduced_interp, y_reduced_interp, 'o-', label='Reduced Data (Interpolated)', markersize=4)\n",
    "plt.legend()\n",
    "plt.show()\n"
   ]
  },
  {
   "cell_type": "code",
   "execution_count": 171,
   "id": "c033ec39",
   "metadata": {},
   "outputs": [
    {
     "data": {
      "image/png": "[encoded data removed]",
      "text/plain": [
       "<Figure size 1000x400 with 1 Axes>"
      ]
     },
     "metadata": {},
     "output_type": "display_data"
    }
   ],
   "source": [
    "## Downsampling with Fourier Transform\n",
    "\n",
    "import numpy as np\n",
    "import matplotlib.pyplot as plt\n",
    "\n",
    "# Perform FFT\n",
    "y_fft = np.fft.fft(yvalues)\n",
    "# Zero out the higher frequencies\n",
    "#y_fft[int(len(y_fft)/2):] = 0\n",
    "# Perform inverse FFT\n",
    "y_filtered = np.fft.ifft(y_fft).real\n",
    "\n",
    "# Downsample\n",
    "x_reduced = xvalues[::2]\n",
    "y_reduced = y_filtered[::2]\n",
    "\n",
    "# Plotting to compare\n",
    "plt.figure(figsize=(10, 4))\n",
    "plt.plot(xvalues, yvalues, label='Original Data')\n",
    "plt.plot(x_reduced, y_reduced, 'o-', label='Reduced Data (FFT Filtered)')\n",
    "plt.legend()\n",
    "plt.show()\n"
   ]
  },
  {
   "cell_type": "code",
   "execution_count": 131,
   "id": "c8c39fdf",
   "metadata": {},
   "outputs": [],
   "source": [
    "## Downsampling simulated data"
   ]
  },
  {
   "cell_type": "code",
   "execution_count": 172,
   "id": "d3c4967f",
   "metadata": {},
   "outputs": [
    {
     "name": "stdout",
     "output_type": "stream",
     "text": [
      "90\n"
     ]
    },
    {
     "data": {
      "image/png": "[encoded data removed]",
      "text/plain": [
       "<Figure size 1000x500 with 1 Axes>"
      ]
     },
     "metadata": {},
     "output_type": "display_data"
    }
   ],
   "source": [
    "## Resampling Using Interpolation\n",
    "\n",
    "import numpy as np\n",
    "import matplotlib.pyplot as plt\n",
    "from scipy.interpolate import interp1d\n",
    "\n",
    "# Create an interpolation function\n",
    "interp_func = interp1d(xvalues, yvalues, kind='cubic')\n",
    "\n",
    "# Generate new xvalues with 50% fewer points\n",
    "num_points = len(xvalues) // 2\n",
    "print(num_points)\n",
    "#x_reduced = np.arange(xvalues[0], xvalues[-1]+1, 4)\n",
    "x_reduced_interp = np.linspace(xvalues[0], xvalues[-1], num_points)\n",
    "y_reduced_interp = interp_func(x_reduced_interp)\n",
    "#print(x_reduced)\n",
    "\n",
    "# Plotting to compare\n",
    "plt.figure(figsize=(10, 5))\n",
    "plt.plot(xvalues, yvalues, label='Original Data')\n",
    "plt.plot(x_reduced_interp, y_reduced_interp, 'o-', label='Reduced Data (Interpolated)', markersize=4)\n",
    "plt.legend()\n",
    "plt.show()"
   ]
  },
  {
   "cell_type": "markdown",
   "id": "20ef9b79",
   "metadata": {},
   "source": [
    "### Name molecule"
   ]
  },
  {
   "cell_type": "code",
   "execution_count": 44,
   "id": "1064eb89",
   "metadata": {},
   "outputs": [],
   "source": []
  },
  {
   "cell_type": "code",
   "execution_count": 173,
   "id": "edfa5f03",
   "metadata": {},
   "outputs": [
    {
     "name": "stdout",
     "output_type": "stream",
     "text": [
      "2-[(2,4-dioxo-1H-pyrimidin-5-yl)-[2-(4-methoxybenzoyl)oxyethyl]amino]ethyl 4-methoxybenzoate\n"
     ]
    }
   ],
   "source": [
    "import pubchempy\n",
    "\n",
    "# Extract the SMILES string from the DataFrame at row index 220, column 0\n",
    "smiles = uvvis_data.iloc[66, 0]\n",
    "\n",
    "# Fetch compound information from PubChem using the SMILES string\n",
    "compounds = pubchempy.get_compounds(smiles, namespace='smiles')\n",
    "\n",
    "# Get the first matching compound\n",
    "match = compounds[0]\n",
    "\n",
    "# Print the IUPAC name of the compound\n",
    "print(match.iupac_name)\n",
    "\n",
    "name = match.iupac_name"
   ]
  },
  {
   "cell_type": "markdown",
   "id": "1e5a44e9",
   "metadata": {},
   "source": [
    "### Combine data"
   ]
  },
  {
   "cell_type": "code",
   "execution_count": 174,
   "id": "a74d0149",
   "metadata": {},
   "outputs": [],
   "source": [
    "mpid = 66"
   ]
  },
  {
   "cell_type": "markdown",
   "id": "1482e850",
   "metadata": {},
   "source": [
    "This function is useful for ensuring compatibility with formats that do not support numpy arrays directly, such as JSON or certain databases."
   ]
  },
  {
   "cell_type": "code",
   "execution_count": 175,
   "id": "856d88fb",
   "metadata": {},
   "outputs": [],
   "source": [
    "def atoms_to_dict(atoms):\n",
    "    atoms_dict = atoms.todict()\n",
    "    for key in atoms_dict:\n",
    "        if isinstance(atoms_dict[key], np.ndarray ):\n",
    "            atoms_dict[key] = [item.tolist() if hasattr(item, 'tolist') else item for item in atoms_dict[key]]\n",
    "            \n",
    "    return atoms_dict"
   ]
  },
  {
   "cell_type": "markdown",
   "id": "77faf5a6",
   "metadata": {},
   "source": [
    "#### Dictionary Construction for Material Properties\n",
    "\n",
    "This code constructs a dictionary row containing various properties of a molecular or material structure. The dictionary includes:\n",
    "\n",
    "- mp_id: The material project ID (mpid).\n",
    "- structure: The structure of the molecule converted to a dictionary format using the atoms_to_dict function.\n",
    "- name: The name of the molecule or material.\n",
    "- phfreq: A list of xvalues for UVVis converted from numpy array xvalues to a list.\n",
    "- phdos: A list of experimental - computational UVVis energies converted from numpy array yvalues to a list.\n",
    "- pdos: An empty list for partial density of states.\n",
    "- formula: The molecular formula string (formula_string).\n",
    "- species: A list of unique chemical species present in the structure (species_list).\n",
    "- exptfreq: A list of experimental UVVis energies converted from numpy array yvalues to a list.\n",
    "- compfreq: A list of computational UVVis energies converted from numpy array yvalues to a list.\n",
    "\n",
    "Finally, the constructed dictionary row is printed."
   ]
  },
  {
   "cell_type": "code",
   "execution_count": 136,
   "id": "70cde2f9-2ac4-4103-8f81-1c51f630560e",
   "metadata": {},
   "outputs": [],
   "source": [
    "yexpt_reduced_interp = y_reduced_interp.copy()\n",
    "ycomp_reduced_interp = y_reduced_interp.copy()"
   ]
  },
  {
   "cell_type": "code",
   "execution_count": 137,
   "id": "f5714475",
   "metadata": {},
   "outputs": [
    {
     "name": "stdout",
     "output_type": "stream",
     "text": [
      "{'mp_id': 66, 'structure': {'numbers': [6, 8, 6, 6, 6, 6, 6, 6, 6, 8, 8, 6, 6, 7, 6, 6, 8, 6, 8, 6, 6, 6, 6, 8, 6, 6, 6, 6, 6, 7, 6, 8, 7, 6, 8, 1, 1, 1, 1, 1, 1, 1, 1, 1, 1, 1, 1, 1, 1, 1, 1, 1, 1, 1, 1, 1, 1, 1, 1, 1], 'positions': [[0.814549607778, 5.053386810043, 3.61135386429], [0.441049607778, 3.775846810043, 3.09854386429], [0.894419607778, 3.622026810043, 1.81796386429], [0.003709607778, 3.821996810043, 0.76597386429], [0.417739607778, 3.570466810043, -0.54180613571], [1.707919607778, 3.079686810043, -0.78588613571], [2.600039607778, 2.883056810043, 0.27541386429], [2.188339607778, 3.154926810043, 1.58316386429], [2.046159607778, 2.685166810043, -2.17214613571], [1.728629607778, 3.326666810043, -3.16043613571], [2.622379607778, 1.455086810043, -2.15351613571], [2.603649607778, 0.781736810043, -3.42417613571], [2.730389607778, -0.740173189957, -3.23235613571], [1.525819607778, -1.389533189957, -2.64370613571], [0.350119607778, -1.456973189957, -3.55491613571], [-0.630190392222, -2.584673189957, -3.17529613571], [-1.426870392222, -2.172843189957, -2.05024613571], [-1.816910392222, -3.145703189957, -1.19535613571], [-1.674230392222, -4.346633189957, -1.35781613571], [-2.379980392222, -2.537863189957, 0.04364386429], [-2.619440392222, -1.164163189957, 0.16327386429], [-3.046920392222, -0.628303189957, 1.38080386429], [-3.279750392222, -1.455243189957, 2.48106386429], [-3.686470392222, -0.798303189957, 3.60835386429], [-4.137920392222, -1.600073189957, 4.69172386429], [-3.076060392222, -2.829993189957, 2.35664386429], [-2.624690392222, -3.368643189957, 1.14400386429], [1.341069607778, -1.279623189957, -1.25587613571], [1.856699607778, -2.149163189957, -0.37436613571], [1.672449607778, -2.024513189957, 0.97341386429], [1.014959607778, -0.977973189957, 1.55419386429], [0.876109607778, -0.899723189957, 2.76979386429], [0.522749607778, -0.043033189957, 0.69450386429], [0.502829607778, -0.163873189957, -0.66909613571], [-0.171240392222, 0.592316810043, -1.36628613571], [0.366229607778, 5.158066810043, 4.60416386429], [0.431349607778, 5.862716810043, 2.98003386429], [1.901309607778, 5.132516810043, 3.71958386429], [-1.014500392222, 4.145026810043, 0.96397386429], [-0.284410392222, 3.688766810043, -1.36502613571], [3.598019607778, 2.493916810043, 0.09294386429], [2.860619607778, 2.971166810043, 2.41679386429], [1.687909607778, 1.013366810043, -3.98003613571], [3.465309607778, 1.139746810043, -3.99855613571], [2.934899607778, -1.205783189957, -4.20381613571], [3.595359607778, -0.955573189957, -2.59250613571], [-0.166550392222, -0.492523189957, -3.58630613571], [0.712939607778, -1.669733189957, -4.56785613571], [-1.317450392222, -2.761393189957, -4.00945613571], [-0.077790392222, -3.508793189957, -2.96810613571], [-2.452510392222, -0.489073189957, -0.67294613571], [-3.195120392222, 0.445276810043, 1.47382386429], [-5.004250392222, -2.201123189957, 4.39632386429], [-3.334480392222, -2.229913189957, 5.08678386429], [-4.455720392222, -0.927323189957, 5.49427386429], [-3.238500392222, -3.508733189957, 3.18742386429], [-2.449410392222, -4.440373189957, 1.06935386429], [2.432949607778, -3.007713189957, -0.70255613571], [2.038609607778, -2.722313189957, 1.60966386429], [-0.017860392222, 0.704866810043, 1.09997386429]], 'cell': [[15.0, 0.0, 0.0], [0.0, 15.0, 0.0], [0.0, 0.0, 15.0]], 'pbc': [True, True, True]}, 'name': '2-[(2,4-dioxo-1H-pyrimidin-5-yl)-[2-(4-methoxybenzoyl)oxyethyl]amino]ethyl 4-methoxybenzoate', 'phfreq': [220.0, 222.01123595505618, 224.02247191011236, 226.03370786516854, 228.04494382022472, 230.0561797752809, 232.06741573033707, 234.07865168539325, 236.08988764044943, 238.1011235955056, 240.1123595505618, 242.12359550561797, 244.13483146067415, 246.14606741573033, 248.1573033707865, 250.1685393258427, 252.17977528089887, 254.19101123595505, 256.2022471910112, 258.2134831460674, 260.2247191011236, 262.23595505617976, 264.24719101123594, 266.2584269662921, 268.2696629213483, 270.2808988764045, 272.29213483146066, 274.30337078651684, 276.314606741573, 278.3258426966292, 280.3370786516854, 282.34831460674155, 284.35955056179773, 286.3707865168539, 288.3820224719101, 290.39325842696627, 292.40449438202245, 294.4157303370786, 296.4269662921348, 298.438202247191, 300.44943820224717, 302.46067415730334, 304.4719101123595, 306.4831460674157, 308.4943820224719, 310.50561797752806, 312.51685393258424, 314.5280898876404, 316.5393258426966, 318.55056179775283, 320.56179775280896, 322.5730337078652, 324.5842696629213, 326.59550561797755, 328.6067415730337, 330.6179775280899, 332.62921348314603, 334.64044943820227, 336.6516853932584, 338.6629213483146, 340.67415730337075, 342.685393258427, 344.6966292134831, 346.70786516853934, 348.71910112359546, 350.7303370786517, 352.7415730337078, 354.75280898876406, 356.7640449438202, 358.7752808988764, 360.78651685393254, 362.7977528089888, 364.8089887640449, 366.82022471910113, 368.83146067415726, 370.8426966292135, 372.8539325842696, 374.86516853932585, 376.876404494382, 378.8876404494382, 380.89887640449433, 382.91011235955057, 384.9213483146067, 386.9325842696629, 388.94382022471905, 390.9550561797753, 392.9662921348314, 394.97752808988764, 396.98876404494376, 399.0], 'phdos': [0.4043139315902422, 0.32777456724586146, 0.28487935301434436, 0.2697912083911946, 0.27541243354620265, 0.29485802795163707, 0.3245971980003155, 0.3628865622382512, 0.4093382728213708, 0.46356156648462477, 0.5241366210341214, 0.5904092534151156, 0.6610048907022975, 0.7329399064488086, 0.8040302606241908, 0.8690845254665611, 0.9244050266127372, 0.9667439415185958, 0.9924488646928108, 0.9999206073289839, 0.9866477484648614, 0.9498745678821975, 0.8960428087915303, 0.8379018720061546, 0.7736167385699243, 0.7021730033867613, 0.6356469611087072, 0.5724559559446756, 0.4965604197069022, 0.41248490018279665, 0.3357166248735275, 0.2704398082265757, 0.21130235577306125, 0.15892253644731785, 0.12082698169592855, 0.09611899532838981, 0.08171177899415254, 0.07371270399722935, 0.06881318512809087, 0.06603248162915719, 0.06410879864313504, 0.06271365262189396, 0.06121661204501296, 0.05955220132565652, 0.05796806456773963, 0.05599545768110232, 0.05388517023507813, 0.051747983705246185, 0.04934518468887451, 0.0468062491824872, 0.043994907776851735, 0.041243041577621216, 0.038551968814946, 0.03550262395370709, 0.03285670593821013, 0.02989072973890405, 0.02715269558794071, 0.0244366927068641, 0.02186976650804052, 0.019626649374640887, 0.017265531396027937, 0.015051364245881434, 0.013522413118130412, 0.01156589404866691, 0.00983180755666577, 0.008494575936528885, 0.0075255719411714645, 0.005922077010490003, 0.005194086945071717, 0.004295548183670596, 0.003659597818723237, 0.002874034693761754, 0.002531520790503361, 0.0023193352823884903, 0.0017580598952213482, 0.001123368040676799, 0.0008404917407199512, 0.0007944173191982655, 0.0007643588206811122, 0.0007094254560131439, 0.000623318201381238, 0.0004687058550570989, 0.00033879401452821696, 0.0003197794829344397, 0.00029406941615495906, 0.0004198266250426786, 0.00030920889740505993, 1.5521835210197193e-06, 0.0002227854157556506, 0.0004029255901546], 'pdos': [], 'formula': 'CHNO', 'species': ['O', 'H', 'N', 'C'], 'expt': [0.4043139315902422, 0.32777456724586146, 0.28487935301434436, 0.2697912083911946, 0.27541243354620265, 0.29485802795163707, 0.3245971980003155, 0.3628865622382512, 0.4093382728213708, 0.46356156648462477, 0.5241366210341214, 0.5904092534151156, 0.6610048907022975, 0.7329399064488086, 0.8040302606241908, 0.8690845254665611, 0.9244050266127372, 0.9667439415185958, 0.9924488646928108, 0.9999206073289839, 0.9866477484648614, 0.9498745678821975, 0.8960428087915303, 0.8379018720061546, 0.7736167385699243, 0.7021730033867613, 0.6356469611087072, 0.5724559559446756, 0.4965604197069022, 0.41248490018279665, 0.3357166248735275, 0.2704398082265757, 0.21130235577306125, 0.15892253644731785, 0.12082698169592855, 0.09611899532838981, 0.08171177899415254, 0.07371270399722935, 0.06881318512809087, 0.06603248162915719, 0.06410879864313504, 0.06271365262189396, 0.06121661204501296, 0.05955220132565652, 0.05796806456773963, 0.05599545768110232, 0.05388517023507813, 0.051747983705246185, 0.04934518468887451, 0.0468062491824872, 0.043994907776851735, 0.041243041577621216, 0.038551968814946, 0.03550262395370709, 0.03285670593821013, 0.02989072973890405, 0.02715269558794071, 0.0244366927068641, 0.02186976650804052, 0.019626649374640887, 0.017265531396027937, 0.015051364245881434, 0.013522413118130412, 0.01156589404866691, 0.00983180755666577, 0.008494575936528885, 0.0075255719411714645, 0.005922077010490003, 0.005194086945071717, 0.004295548183670596, 0.003659597818723237, 0.002874034693761754, 0.002531520790503361, 0.0023193352823884903, 0.0017580598952213482, 0.001123368040676799, 0.0008404917407199512, 0.0007944173191982655, 0.0007643588206811122, 0.0007094254560131439, 0.000623318201381238, 0.0004687058550570989, 0.00033879401452821696, 0.0003197794829344397, 0.00029406941615495906, 0.0004198266250426786, 0.00030920889740505993, 1.5521835210197193e-06, 0.0002227854157556506, 0.0004029255901546], 'comp': [0.4043139315902422, 0.32777456724586146, 0.28487935301434436, 0.2697912083911946, 0.27541243354620265, 0.29485802795163707, 0.3245971980003155, 0.3628865622382512, 0.4093382728213708, 0.46356156648462477, 0.5241366210341214, 0.5904092534151156, 0.6610048907022975, 0.7329399064488086, 0.8040302606241908, 0.8690845254665611, 0.9244050266127372, 0.9667439415185958, 0.9924488646928108, 0.9999206073289839, 0.9866477484648614, 0.9498745678821975, 0.8960428087915303, 0.8379018720061546, 0.7736167385699243, 0.7021730033867613, 0.6356469611087072, 0.5724559559446756, 0.4965604197069022, 0.41248490018279665, 0.3357166248735275, 0.2704398082265757, 0.21130235577306125, 0.15892253644731785, 0.12082698169592855, 0.09611899532838981, 0.08171177899415254, 0.07371270399722935, 0.06881318512809087, 0.06603248162915719, 0.06410879864313504, 0.06271365262189396, 0.06121661204501296, 0.05955220132565652, 0.05796806456773963, 0.05599545768110232, 0.05388517023507813, 0.051747983705246185, 0.04934518468887451, 0.0468062491824872, 0.043994907776851735, 0.041243041577621216, 0.038551968814946, 0.03550262395370709, 0.03285670593821013, 0.02989072973890405, 0.02715269558794071, 0.0244366927068641, 0.02186976650804052, 0.019626649374640887, 0.017265531396027937, 0.015051364245881434, 0.013522413118130412, 0.01156589404866691, 0.00983180755666577, 0.008494575936528885, 0.0075255719411714645, 0.005922077010490003, 0.005194086945071717, 0.004295548183670596, 0.003659597818723237, 0.002874034693761754, 0.002531520790503361, 0.0023193352823884903, 0.0017580598952213482, 0.001123368040676799, 0.0008404917407199512, 0.0007944173191982655, 0.0007643588206811122, 0.0007094254560131439, 0.000623318201381238, 0.0004687058550570989, 0.00033879401452821696, 0.0003197794829344397, 0.00029406941615495906, 0.0004198266250426786, 0.00030920889740505993, 1.5521835210197193e-06, 0.0002227854157556506, 0.0004029255901546]}\n"
     ]
    }
   ],
   "source": [
    "row = {'mp_id': mpid, \n",
    "        'structure': atoms_to_dict(mol), \n",
    "        'name': name,\n",
    "        'phfreq': x_reduced_interp.tolist(), \n",
    "        'phdos': y_reduced_interp.tolist(),\n",
    "        'pdos':[],\n",
    "        'formula': formula_string,\n",
    "        'species': species_list,\n",
    "        'expt': yexpt_reduced_interp.tolist(),\n",
    "        'comp': ycomp_reduced_interp.tolist()}\n",
    "print(row)"
   ]
  },
  {
   "cell_type": "code",
   "execution_count": null,
   "id": "94177129",
   "metadata": {},
   "outputs": [],
   "source": []
  },
  {
   "cell_type": "code",
   "execution_count": null,
   "id": "310c5a38",
   "metadata": {},
   "outputs": [],
   "source": []
  },
  {
   "cell_type": "markdown",
   "id": "fd52632e",
   "metadata": {},
   "source": [
    "### Putting it all Together\n",
    "OK. Now that we have that we can apply it to every molecule in the UV-vis dataset. The following cells will help us do that. First let's reload import all libraries again."
   ]
  },
  {
   "cell_type": "code",
   "execution_count": 138,
   "id": "43236333",
   "metadata": {},
   "outputs": [],
   "source": [
    "import pandas as pd\n",
    "import numpy as np\n",
    "import pubchempy \n",
    "import psi4\n",
    "from ase import Atoms\n",
    "import ase.io\n",
    "from tempfile import NamedTemporaryFile\n",
    "\n",
    "from ase import Atoms\n",
    "from ase.optimize import BFGS\n",
    "from ase.calculators.mopac import MOPAC\n",
    "\n",
    "from openbabel import pybel\n"
   ]
  },
  {
   "cell_type": "markdown",
   "id": "fbd22bfd",
   "metadata": {},
   "source": [
    "Now let's load the data from the CSV file to a pandas dataframe"
   ]
  },
  {
   "cell_type": "code",
   "execution_count": 139,
   "id": "83db2aee",
   "metadata": {},
   "outputs": [
    {
     "data": {
      "text/html": [
       "<div>\n",
       "<style scoped>\n",
       "    .dataframe tbody tr th:only-of-type {\n",
       "        vertical-align: middle;\n",
       "    }\n",
       "\n",
       "    .dataframe tbody tr th {\n",
       "        vertical-align: top;\n",
       "    }\n",
       "\n",
       "    .dataframe thead th {\n",
       "        text-align: right;\n",
       "    }\n",
       "</style>\n",
       "<table border=\"1\" class=\"dataframe\">\n",
       "  <thead>\n",
       "    <tr style=\"text-align: right;\">\n",
       "      <th></th>\n",
       "      <th>0</th>\n",
       "      <th>1</th>\n",
       "      <th>2</th>\n",
       "      <th>3</th>\n",
       "      <th>4</th>\n",
       "      <th>5</th>\n",
       "      <th>6</th>\n",
       "      <th>7</th>\n",
       "      <th>8</th>\n",
       "      <th>9</th>\n",
       "      <th>...</th>\n",
       "      <th>172</th>\n",
       "      <th>173</th>\n",
       "      <th>174</th>\n",
       "      <th>175</th>\n",
       "      <th>176</th>\n",
       "      <th>177</th>\n",
       "      <th>178</th>\n",
       "      <th>179</th>\n",
       "      <th>180</th>\n",
       "      <th>181</th>\n",
       "    </tr>\n",
       "  </thead>\n",
       "  <tbody>\n",
       "    <tr>\n",
       "      <th>0</th>\n",
       "      <td>NC1=NC2=C(C=CC=C2)[N+]([O-])=N1</td>\n",
       "      <td>0.299539</td>\n",
       "      <td>0.311787</td>\n",
       "      <td>0.328491</td>\n",
       "      <td>0.349915</td>\n",
       "      <td>0.376548</td>\n",
       "      <td>0.408694</td>\n",
       "      <td>0.446354</td>\n",
       "      <td>0.489792</td>\n",
       "      <td>0.537421</td>\n",
       "      <td>...</td>\n",
       "      <td>0.092434</td>\n",
       "      <td>0.095006</td>\n",
       "      <td>0.097484</td>\n",
       "      <td>0.099952</td>\n",
       "      <td>0.102239</td>\n",
       "      <td>0.104428</td>\n",
       "      <td>0.106597</td>\n",
       "      <td>0.108721</td>\n",
       "      <td>0.110758</td>\n",
       "      <td>0.112611</td>\n",
       "    </tr>\n",
       "    <tr>\n",
       "      <th>1</th>\n",
       "      <td>NC1=NC2=C(C=CC=C2)N=N1</td>\n",
       "      <td>0.411922</td>\n",
       "      <td>0.447550</td>\n",
       "      <td>0.487158</td>\n",
       "      <td>0.530422</td>\n",
       "      <td>0.576958</td>\n",
       "      <td>0.626523</td>\n",
       "      <td>0.678088</td>\n",
       "      <td>0.731087</td>\n",
       "      <td>0.783621</td>\n",
       "      <td>...</td>\n",
       "      <td>0.094415</td>\n",
       "      <td>0.095031</td>\n",
       "      <td>0.095445</td>\n",
       "      <td>0.095832</td>\n",
       "      <td>0.095950</td>\n",
       "      <td>0.095919</td>\n",
       "      <td>0.095820</td>\n",
       "      <td>0.095594</td>\n",
       "      <td>0.095204</td>\n",
       "      <td>0.094772</td>\n",
       "    </tr>\n",
       "    <tr>\n",
       "      <th>2</th>\n",
       "      <td>CCC1=[N+]([O-])C2=C(C=CC=C2)[N+]([O-])=N1</td>\n",
       "      <td>0.732482</td>\n",
       "      <td>0.794217</td>\n",
       "      <td>0.853497</td>\n",
       "      <td>0.907398</td>\n",
       "      <td>0.952023</td>\n",
       "      <td>0.983787</td>\n",
       "      <td>1.000000</td>\n",
       "      <td>0.998714</td>\n",
       "      <td>0.982111</td>\n",
       "      <td>...</td>\n",
       "      <td>0.398864</td>\n",
       "      <td>0.409874</td>\n",
       "      <td>0.420358</td>\n",
       "      <td>0.429326</td>\n",
       "      <td>0.437889</td>\n",
       "      <td>0.445579</td>\n",
       "      <td>0.452843</td>\n",
       "      <td>0.459056</td>\n",
       "      <td>0.464107</td>\n",
       "      <td>0.468328</td>\n",
       "    </tr>\n",
       "    <tr>\n",
       "      <th>3</th>\n",
       "      <td>CN(C)CC1=CNC2=CC=C(C=C12)[N+]([O-])=O</td>\n",
       "      <td>0.412611</td>\n",
       "      <td>0.399813</td>\n",
       "      <td>0.390055</td>\n",
       "      <td>0.382307</td>\n",
       "      <td>0.376957</td>\n",
       "      <td>0.373062</td>\n",
       "      <td>0.371521</td>\n",
       "      <td>0.370622</td>\n",
       "      <td>0.371992</td>\n",
       "      <td>...</td>\n",
       "      <td>0.033980</td>\n",
       "      <td>0.029478</td>\n",
       "      <td>0.024774</td>\n",
       "      <td>0.020789</td>\n",
       "      <td>0.017146</td>\n",
       "      <td>0.013311</td>\n",
       "      <td>0.009733</td>\n",
       "      <td>0.006266</td>\n",
       "      <td>0.003120</td>\n",
       "      <td>0.000000</td>\n",
       "    </tr>\n",
       "    <tr>\n",
       "      <th>4</th>\n",
       "      <td>NC(=N)SCCN1C(=O)C2=CC=CC=C2C1=O</td>\n",
       "      <td>0.991241</td>\n",
       "      <td>1.000000</td>\n",
       "      <td>0.996943</td>\n",
       "      <td>0.979253</td>\n",
       "      <td>0.944010</td>\n",
       "      <td>0.890630</td>\n",
       "      <td>0.820660</td>\n",
       "      <td>0.739217</td>\n",
       "      <td>0.655266</td>\n",
       "      <td>...</td>\n",
       "      <td>0.000543</td>\n",
       "      <td>0.000694</td>\n",
       "      <td>0.000529</td>\n",
       "      <td>0.000495</td>\n",
       "      <td>0.000374</td>\n",
       "      <td>0.000433</td>\n",
       "      <td>0.000577</td>\n",
       "      <td>0.000560</td>\n",
       "      <td>0.000574</td>\n",
       "      <td>0.000412</td>\n",
       "    </tr>\n",
       "  </tbody>\n",
       "</table>\n",
       "<p>5 rows × 182 columns</p>\n",
       "</div>"
      ],
      "text/plain": [
       "                                         0         1         2         3    \\\n",
       "0            NC1=NC2=C(C=CC=C2)[N+]([O-])=N1  0.299539  0.311787  0.328491   \n",
       "1                     NC1=NC2=C(C=CC=C2)N=N1  0.411922  0.447550  0.487158   \n",
       "2  CCC1=[N+]([O-])C2=C(C=CC=C2)[N+]([O-])=N1  0.732482  0.794217  0.853497   \n",
       "3      CN(C)CC1=CNC2=CC=C(C=C12)[N+]([O-])=O  0.412611  0.399813  0.390055   \n",
       "4            NC(=N)SCCN1C(=O)C2=CC=CC=C2C1=O  0.991241  1.000000  0.996943   \n",
       "\n",
       "        4         5         6         7         8         9    ...       172  \\\n",
       "0  0.349915  0.376548  0.408694  0.446354  0.489792  0.537421  ...  0.092434   \n",
       "1  0.530422  0.576958  0.626523  0.678088  0.731087  0.783621  ...  0.094415   \n",
       "2  0.907398  0.952023  0.983787  1.000000  0.998714  0.982111  ...  0.398864   \n",
       "3  0.382307  0.376957  0.373062  0.371521  0.370622  0.371992  ...  0.033980   \n",
       "4  0.979253  0.944010  0.890630  0.820660  0.739217  0.655266  ...  0.000543   \n",
       "\n",
       "        173       174       175       176       177       178       179  \\\n",
       "0  0.095006  0.097484  0.099952  0.102239  0.104428  0.106597  0.108721   \n",
       "1  0.095031  0.095445  0.095832  0.095950  0.095919  0.095820  0.095594   \n",
       "2  0.409874  0.420358  0.429326  0.437889  0.445579  0.452843  0.459056   \n",
       "3  0.029478  0.024774  0.020789  0.017146  0.013311  0.009733  0.006266   \n",
       "4  0.000694  0.000529  0.000495  0.000374  0.000433  0.000577  0.000560   \n",
       "\n",
       "        180       181  \n",
       "0  0.110758  0.112611  \n",
       "1  0.095204  0.094772  \n",
       "2  0.464107  0.468328  \n",
       "3  0.003120  0.000000  \n",
       "4  0.000574  0.000412  \n",
       "\n",
       "[5 rows x 182 columns]"
      ]
     },
     "execution_count": 139,
     "metadata": {},
     "output_type": "execute_result"
    }
   ],
   "source": [
    "uvvis_df = pd.read_csv(\"UV_w_SMILES.csv\",header=None)\n",
    "uvvis_df.head()"
   ]
  },
  {
   "cell_type": "code",
   "execution_count": 140,
   "id": "0a4e7688",
   "metadata": {},
   "outputs": [],
   "source": [
    "def atoms_to_dict(atoms):\n",
    "    atoms_dict = atoms.todict()\n",
    "    for key in atoms_dict:\n",
    "        if isinstance(atoms_dict[key], np.ndarray ):\n",
    "            atoms_dict[key] = [item.tolist() if hasattr(item, 'tolist') else item for item in atoms_dict[key]]\n",
    "            \n",
    "    return atoms_dict"
   ]
  },
  {
   "cell_type": "code",
   "execution_count": 141,
   "id": "5a460449",
   "metadata": {},
   "outputs": [],
   "source": [
    "from openbabel import pybel\n",
    "\n",
    "# Function to convert SMILES to XYZ\n",
    "def smiles_to_xyz(smiles_string):\n",
    "    # Convert SMILES to molecule\n",
    "    mol = pybel.readstring(\"smi\", smiles_string)\n",
    "    \n",
    "    # Add hydrogens\n",
    "    mol.addh()\n",
    "    \n",
    "    # Generate 3D coordinates\n",
    "    mol.make3D()\n",
    "    \n",
    "    # Optimize geometry\n",
    "    mol.localopt()\n",
    "    \n",
    "    # Get XYZ coordinates\n",
    "    xyz = mol.write(\"xyz\")\n",
    "\n",
    "    return xyz"
   ]
  },
  {
   "cell_type": "code",
   "execution_count": 142,
   "id": "086e3874",
   "metadata": {},
   "outputs": [],
   "source": [
    "# Set Psi4 options\n",
    "psi4.set_memory('500 MB')\n",
    "psi4.set_num_threads(1)\n",
    "psi4.core.be_quiet()\n",
    "\n",
    "\n",
    "molecule = psi4.geometry(coordinates)\n"
   ]
  },
  {
   "cell_type": "markdown",
   "id": "e13e9e69",
   "metadata": {},
   "source": [
    "The following cell initializes an empty DataFrame with columns to store UV-Vis data and associated molecular information. The script defines the X-values for the UV-Vis spectrum.\n",
    "\n",
    "The main part of the script iterates through each row in the uvvis_df DataFrame. For each SMILES string in the DataFrame, the script converts the SMILES to XYZ coordinates and fetches the compound name from PubChem. Using Psi4, it defines the molecular geometry and creates a temporary XYZ file for ASE to read the molecule's structure.\n",
    "\n",
    "After reading the XYZ file, the script sets the cell dimensions and periodic boundary conditions. It then extracts the unique chemical species and formula, as well as Y-values from the DataFrame row. A dictionary is created for the new row, containing all relevant data, and this dictionary is appended to the DataFrame.\n"
   ]
  },
  {
   "cell_type": "code",
   "execution_count": 143,
   "id": "c71f929e",
   "metadata": {},
   "outputs": [
    {
     "name": "stderr",
     "output_type": "stream",
     "text": [
      "==============================\n",
      "*** Open Babel Warning  in CorrectStereoAtoms\n",
      "  Could not correct 1 stereocenter(s) in this molecule ()\n",
      "  with Atom Ids as follows: 13\n"
     ]
    }
   ],
   "source": [
    "# Initialize the DataFrame\n",
    "df = pd.DataFrame(columns=['uvvis_id', 'structure', 'name', 'phfreq', 'phdos', 'pdos', 'formula', 'species', 'smiles','expt','comp'])\n",
    "\n",
    "# X-values for UV-Vis\n",
    "xvalues = np.arange(220, 401, 1)\n",
    "\n",
    "# Iterate through each row in the uvvis_df DataFrame\n",
    "for index, row in uvvis_df.iterrows():\n",
    "    \n",
    "    smiles = row[0]\n",
    "\n",
    "    # Get XYZ coordinates from SMILES\n",
    "    xyz0 = smiles_to_xyz(smiles)\n",
    "\n",
    "    # Get compound name from PubChem\n",
    "    compounds = pubchempy.get_compounds(smiles, namespace='smiles')\n",
    "    name = compounds[0].iupac_name\n",
    "\n",
    "    # Define the molecule using Psi4\n",
    "    molo = psi4.geometry(coordinates)\n",
    "    #molo = optimize_with_psi4(xyz0, 0)\n",
    "\n",
    "    # Define the molecule using ASE\n",
    "    #molo = optimize_with_ase(xyz0)\n",
    "\n",
    "    temp_filename = xyz0\n",
    "    temp_filename = molo\n",
    "    # Create a temporary XYZ file for ASE\n",
    "    with NamedTemporaryFile(delete=False, suffix=\".xyz\") as file:\n",
    "        molo.save_xyz_file(file.name, 1)\n",
    "        temp_filename = file.name\n",
    "\n",
    "    # Read the molecule from the XYZ file\n",
    "    mol = ase.io.read(temp_filename)\n",
    "    mol.set_cell((25.0, 25.0, 25.0))\n",
    "    mol.set_pbc((True, True, True))\n",
    "\n",
    "    # Extract species and formula\n",
    "    species_list = list(set(mol.get_chemical_symbols()))\n",
    "    formula_string = ''.join(sorted(set([atom.symbol for atom in mol])))\n",
    "\n",
    "    # Extract Y-values from the row\n",
    "    yvalues = row[1:].to_numpy()\n",
    "    \n",
    "    # Create an interpolation function\n",
    "    interp_func = interp1d(xvalues, yvalues, kind='cubic')\n",
    "\n",
    "    # Generate new xvalues with 75% fewer points\n",
    "    x_reduced = np.arange(xvalues[0], xvalues[-1]+1, 4)\n",
    "    y_reduced = interp_func(x_reduced)\n",
    "\n",
    "    # Create a dictionary for the new row\n",
    "    panda_row = {\n",
    "        'uvvis_id': index,\n",
    "        'structure': atoms_to_dict(mol),\n",
    "        'name': name,\n",
    "        'phfreq': x_reduced.tolist(),\n",
    "        'phdos': y_reduced.tolist(),\n",
    "        'pdos': [],\n",
    "        'formula': formula_string,\n",
    "        'species': species_list,\n",
    "        'smiles': smiles,\n",
    "        'expt': y_reduced.tolist(),\n",
    "        'comp': y_reduced.tolist()\n",
    "    }\n",
    "\n",
    "    # Append the new row to the DataFrame\n",
    "    new_data = pd.DataFrame([panda_row])\n",
    "    df = pd.concat([df, new_data], ignore_index=True)\n",
    "\n",
    "\n",
    "# Display the DataFrame\n",
    "#print(df.head())\n"
   ]
  },
  {
   "cell_type": "markdown",
   "id": "232818f6",
   "metadata": {},
   "source": [
    "Let's check out the top of the database (the first five molecule entries) to see that everything worked as expected."
   ]
  },
  {
   "cell_type": "code",
   "execution_count": 136,
   "id": "a38f0a53",
   "metadata": {},
   "outputs": [
    {
     "data": {
      "text/html": [
       "<div>\n",
       "<style scoped>\n",
       "    .dataframe tbody tr th:only-of-type {\n",
       "        vertical-align: middle;\n",
       "    }\n",
       "\n",
       "    .dataframe tbody tr th {\n",
       "        vertical-align: top;\n",
       "    }\n",
       "\n",
       "    .dataframe thead th {\n",
       "        text-align: right;\n",
       "    }\n",
       "</style>\n",
       "<table border=\"1\" class=\"dataframe\">\n",
       "  <thead>\n",
       "    <tr style=\"text-align: right;\">\n",
       "      <th></th>\n",
       "      <th>uvvis_id</th>\n",
       "      <th>structure</th>\n",
       "      <th>name</th>\n",
       "      <th>phfreq</th>\n",
       "      <th>phdos</th>\n",
       "      <th>pdos</th>\n",
       "      <th>formula</th>\n",
       "      <th>species</th>\n",
       "      <th>smiles</th>\n",
       "    </tr>\n",
       "  </thead>\n",
       "  <tbody>\n",
       "    <tr>\n",
       "      <th>0</th>\n",
       "      <td>0</td>\n",
       "      <td>{'numbers': [7, 6, 7, 6, 6, 6, 6, 6, 6, 7, 8, ...</td>\n",
       "      <td>1-oxido-1,2,4-benzotriazin-1-ium-3-amine</td>\n",
       "      <td>[220.0, 224.0909090909091, 228.1818181818182, ...</td>\n",
       "      <td>[0.2995391705069124, 0.3765475427513453, 0.537...</td>\n",
       "      <td>[]</td>\n",
       "      <td>CHNO</td>\n",
       "      <td>[H, C, N, O]</td>\n",
       "      <td>NC1=NC2=C(C=CC=C2)[N+]([O-])=N1</td>\n",
       "    </tr>\n",
       "    <tr>\n",
       "      <th>1</th>\n",
       "      <td>1</td>\n",
       "      <td>{'numbers': [7, 6, 7, 6, 6, 6, 6, 6, 6, 7, 7, ...</td>\n",
       "      <td>1,2,4-benzotriazin-3-amine</td>\n",
       "      <td>[220.0, 224.0909090909091, 228.1818181818182, ...</td>\n",
       "      <td>[0.4119215356773526, 0.5769575685108583, 0.783...</td>\n",
       "      <td>[]</td>\n",
       "      <td>CHN</td>\n",
       "      <td>[H, C, N]</td>\n",
       "      <td>NC1=NC2=C(C=CC=C2)N=N1</td>\n",
       "    </tr>\n",
       "    <tr>\n",
       "      <th>2</th>\n",
       "      <td>2</td>\n",
       "      <td>{'numbers': [6, 6, 6, 7, 8, 6, 6, 6, 6, 6, 6, ...</td>\n",
       "      <td>3-ethyl-1-oxido-1,2,4-benzotriazin-4-ium 4-oxide</td>\n",
       "      <td>[220.0, 224.0909090909091, 228.1818181818182, ...</td>\n",
       "      <td>[0.7324821401428788, 0.9520229479189808, 0.982...</td>\n",
       "      <td>[]</td>\n",
       "      <td>CHNO</td>\n",
       "      <td>[H, C, N, O]</td>\n",
       "      <td>CCC1=[N+]([O-])C2=C(C=CC=C2)[N+]([O-])=N1</td>\n",
       "    </tr>\n",
       "    <tr>\n",
       "      <th>3</th>\n",
       "      <td>3</td>\n",
       "      <td>{'numbers': [6, 7, 6, 6, 6, 6, 7, 6, 6, 6, 6, ...</td>\n",
       "      <td>N,N-dimethyl-1-(5-nitro-1H-indol-3-yl)methanamine</td>\n",
       "      <td>[220.0, 224.0909090909091, 228.1818181818182, ...</td>\n",
       "      <td>[0.4126111781675612, 0.3769571209669825, 0.371...</td>\n",
       "      <td>[]</td>\n",
       "      <td>CHNO</td>\n",
       "      <td>[H, C, N, O]</td>\n",
       "      <td>CN(C)CC1=CNC2=CC=C(C=C12)[N+]([O-])=O</td>\n",
       "    </tr>\n",
       "    <tr>\n",
       "      <th>4</th>\n",
       "      <td>4</td>\n",
       "      <td>{'numbers': [7, 6, 7, 16, 6, 6, 7, 6, 8, 6, 6,...</td>\n",
       "      <td>2-(1,3-dioxoisoindol-2-yl)ethyl carbamimidothi...</td>\n",
       "      <td>[220.0, 224.0909090909091, 228.1818181818182, ...</td>\n",
       "      <td>[0.991240815737678, 0.9440099202055489, 0.6552...</td>\n",
       "      <td>[]</td>\n",
       "      <td>CHNOS</td>\n",
       "      <td>[S, C, O, H, N]</td>\n",
       "      <td>NC(=N)SCCN1C(=O)C2=CC=CC=C2C1=O</td>\n",
       "    </tr>\n",
       "  </tbody>\n",
       "</table>\n",
       "</div>"
      ],
      "text/plain": [
       "  uvvis_id                                          structure  \\\n",
       "0        0  {'numbers': [7, 6, 7, 6, 6, 6, 6, 6, 6, 7, 8, ...   \n",
       "1        1  {'numbers': [7, 6, 7, 6, 6, 6, 6, 6, 6, 7, 7, ...   \n",
       "2        2  {'numbers': [6, 6, 6, 7, 8, 6, 6, 6, 6, 6, 6, ...   \n",
       "3        3  {'numbers': [6, 7, 6, 6, 6, 6, 7, 6, 6, 6, 6, ...   \n",
       "4        4  {'numbers': [7, 6, 7, 16, 6, 6, 7, 6, 8, 6, 6,...   \n",
       "\n",
       "                                                name  \\\n",
       "0           1-oxido-1,2,4-benzotriazin-1-ium-3-amine   \n",
       "1                         1,2,4-benzotriazin-3-amine   \n",
       "2   3-ethyl-1-oxido-1,2,4-benzotriazin-4-ium 4-oxide   \n",
       "3  N,N-dimethyl-1-(5-nitro-1H-indol-3-yl)methanamine   \n",
       "4  2-(1,3-dioxoisoindol-2-yl)ethyl carbamimidothi...   \n",
       "\n",
       "                                              phfreq  \\\n",
       "0  [220.0, 224.0909090909091, 228.1818181818182, ...   \n",
       "1  [220.0, 224.0909090909091, 228.1818181818182, ...   \n",
       "2  [220.0, 224.0909090909091, 228.1818181818182, ...   \n",
       "3  [220.0, 224.0909090909091, 228.1818181818182, ...   \n",
       "4  [220.0, 224.0909090909091, 228.1818181818182, ...   \n",
       "\n",
       "                                               phdos pdos formula  \\\n",
       "0  [0.2995391705069124, 0.3765475427513453, 0.537...   []    CHNO   \n",
       "1  [0.4119215356773526, 0.5769575685108583, 0.783...   []     CHN   \n",
       "2  [0.7324821401428788, 0.9520229479189808, 0.982...   []    CHNO   \n",
       "3  [0.4126111781675612, 0.3769571209669825, 0.371...   []    CHNO   \n",
       "4  [0.991240815737678, 0.9440099202055489, 0.6552...   []   CHNOS   \n",
       "\n",
       "           species                                     smiles  \n",
       "0     [H, C, N, O]            NC1=NC2=C(C=CC=C2)[N+]([O-])=N1  \n",
       "1        [H, C, N]                     NC1=NC2=C(C=CC=C2)N=N1  \n",
       "2     [H, C, N, O]  CCC1=[N+]([O-])C2=C(C=CC=C2)[N+]([O-])=N1  \n",
       "3     [H, C, N, O]      CN(C)CC1=CNC2=CC=C(C=C12)[N+]([O-])=O  \n",
       "4  [S, C, O, H, N]            NC(=N)SCCN1C(=O)C2=CC=CC=C2C1=O  "
      ]
     },
     "execution_count": 136,
     "metadata": {},
     "output_type": "execute_result"
    }
   ],
   "source": [
    "\n",
    "df.head()"
   ]
  },
  {
   "cell_type": "markdown",
   "id": "bb48b40e",
   "metadata": {},
   "source": [
    "Finally we can save the data to a csv file so that it can be read by our machine learning algorithm. "
   ]
  },
  {
   "cell_type": "code",
   "execution_count": 137,
   "id": "8a934ced",
   "metadata": {},
   "outputs": [],
   "source": [
    "df.to_csv('uvvis_to_downsample.csv', index=False)"
   ]
  },
  {
   "cell_type": "markdown",
   "id": "18b10692",
   "metadata": {},
   "source": [
    "Great! That's it. You're finished."
   ]
  },
  {
   "cell_type": "code",
   "execution_count": null,
   "id": "53ef565c",
   "metadata": {},
   "outputs": [],
   "source": []
  }
 ],
 "metadata": {
  "kernelspec": {
   "display_name": "Python 3 (ipykernel)",
   "language": "python",
   "name": "python3"
  },
  "language_info": {
   "codemirror_mode": {
    "name": "ipython",
    "version": 3
   },
   "file_extension": ".py",
   "mimetype": "text/x-python",
   "name": "python",
   "nbconvert_exporter": "python",
   "pygments_lexer": "ipython3",
   "version": "3.11.9"
  }
 },
 "nbformat": 4,
 "nbformat_minor": 5
}
